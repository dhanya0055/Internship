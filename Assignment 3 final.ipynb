{
 "cells": [
  {
   "cell_type": "markdown",
   "id": "0ab3ac02",
   "metadata": {},
   "source": [
    "# Question 7"
   ]
  },
  {
   "cell_type": "code",
   "execution_count": 1,
   "id": "2ae7d88b",
   "metadata": {},
   "outputs": [
    {
     "name": "stdout",
     "output_type": "stream",
     "text": [
      "Requirement already satisfied: selenium in c:\\users\\lenovo\\anaconda3\\lib\\site-packages (4.8.0)\n",
      "Requirement already satisfied: trio-websocket~=0.9 in c:\\users\\lenovo\\anaconda3\\lib\\site-packages (from selenium) (0.9.2)\n",
      "Requirement already satisfied: trio~=0.17 in c:\\users\\lenovo\\anaconda3\\lib\\site-packages (from selenium) (0.22.0)\n",
      "Requirement already satisfied: urllib3[socks]~=1.26 in c:\\users\\lenovo\\anaconda3\\lib\\site-packages (from selenium) (1.26.9)\n",
      "Requirement already satisfied: certifi>=2021.10.8 in c:\\users\\lenovo\\anaconda3\\lib\\site-packages (from selenium) (2021.10.8)\n",
      "Requirement already satisfied: exceptiongroup>=1.0.0rc9 in c:\\users\\lenovo\\anaconda3\\lib\\site-packages (from trio~=0.17->selenium) (1.1.0)\n",
      "Requirement already satisfied: outcome in c:\\users\\lenovo\\anaconda3\\lib\\site-packages (from trio~=0.17->selenium) (1.2.0)\n",
      "Requirement already satisfied: idna in c:\\users\\lenovo\\anaconda3\\lib\\site-packages (from trio~=0.17->selenium) (3.3)\n",
      "Requirement already satisfied: sniffio in c:\\users\\lenovo\\anaconda3\\lib\\site-packages (from trio~=0.17->selenium) (1.2.0)\n",
      "Requirement already satisfied: async-generator>=1.9 in c:\\users\\lenovo\\anaconda3\\lib\\site-packages (from trio~=0.17->selenium) (1.10)\n",
      "Requirement already satisfied: attrs>=19.2.0 in c:\\users\\lenovo\\anaconda3\\lib\\site-packages (from trio~=0.17->selenium) (21.4.0)\n",
      "Requirement already satisfied: cffi>=1.14 in c:\\users\\lenovo\\anaconda3\\lib\\site-packages (from trio~=0.17->selenium) (1.15.0)\n",
      "Requirement already satisfied: sortedcontainers in c:\\users\\lenovo\\anaconda3\\lib\\site-packages (from trio~=0.17->selenium) (2.4.0)\n",
      "Requirement already satisfied: pycparser in c:\\users\\lenovo\\anaconda3\\lib\\site-packages (from cffi>=1.14->trio~=0.17->selenium) (2.21)\n",
      "Requirement already satisfied: wsproto>=0.14 in c:\\users\\lenovo\\anaconda3\\lib\\site-packages (from trio-websocket~=0.9->selenium) (1.2.0)\n",
      "Requirement already satisfied: PySocks!=1.5.7,<2.0,>=1.5.6 in c:\\users\\lenovo\\anaconda3\\lib\\site-packages (from urllib3[socks]~=1.26->selenium) (1.7.1)\n",
      "Requirement already satisfied: h11<1,>=0.9.0 in c:\\users\\lenovo\\anaconda3\\lib\\site-packages (from wsproto>=0.14->trio-websocket~=0.9->selenium) (0.14.0)\n"
     ]
    }
   ],
   "source": [
    "!pip install selenium"
   ]
  },
  {
   "cell_type": "code",
   "execution_count": 2,
   "id": "56a0b41d",
   "metadata": {},
   "outputs": [],
   "source": [
    "import selenium\n",
    "import pandas as pd\n",
    "from selenium import webdriver\n",
    "import warnings\n",
    "warnings.filterwarnings('ignore')\n",
    "from selenium.webdriver.common.by import By\n",
    "import time"
   ]
  },
  {
   "cell_type": "code",
   "execution_count": 3,
   "id": "65a4ec16",
   "metadata": {},
   "outputs": [],
   "source": [
    "driver=webdriver.Chrome(r\"chromedriver.exe\")"
   ]
  },
  {
   "cell_type": "code",
   "execution_count": 4,
   "id": "d4bb1895",
   "metadata": {},
   "outputs": [],
   "source": [
    "driver.get(\"https://www.forbes.com/\")"
   ]
  },
  {
   "cell_type": "code",
   "execution_count": 5,
   "id": "5515019f",
   "metadata": {},
   "outputs": [],
   "source": [
    "search=driver.find_element(By.CLASS_NAME,\"_8FT-x3t4\")\n",
    "search.click()"
   ]
  },
  {
   "cell_type": "code",
   "execution_count": 6,
   "id": "d8e3f9f3",
   "metadata": {},
   "outputs": [],
   "source": [
    "se=driver.find_element(By.CLASS_NAME,\"mpBfVZz3\")\n",
    "se.click()"
   ]
  },
  {
   "cell_type": "code",
   "execution_count": 7,
   "id": "744df55c",
   "metadata": {},
   "outputs": [],
   "source": [
    "billion=driver.find_element(By.XPATH,\"/html/body/div[1]/main/div/section/section[1]/div/div/div[1]/div/div[1]/div[1]/div[2]/a/h2\")\n",
    "billion.click()"
   ]
  },
  {
   "cell_type": "code",
   "execution_count": 8,
   "id": "234b24a5",
   "metadata": {},
   "outputs": [],
   "source": [
    "person_rank=[]\n",
    "start=0\n",
    "end=5\n",
    "for page in range(start,end):\n",
    "    rank_tags=driver.find_elements(By.XPATH,' //div[@class=\"rank\"]')\n",
    "    for i in rank_tags:\n",
    "        person_rank.append(i.text)\n",
    "\n",
    "    next_button=driver.find_element(By.XPATH,'//div[@class=\"next-page\"]')\n",
    "    next_button.click()\n",
    "    time.sleep(3)"
   ]
  },
  {
   "cell_type": "code",
   "execution_count": 9,
   "id": "dde1234d",
   "metadata": {},
   "outputs": [],
   "source": [
    "person_worth=[]\n",
    "start=0\n",
    "end=5\n",
    "for page in range(start,end):\n",
    "    worth_tags=driver.find_elements(By.XPATH,' //div[@class=\"netWorth\"]')\n",
    "    for i in worth_tags:\n",
    "        person_worth.append(i.text)\n",
    "\n",
    "    next_button=driver.find_element(By.XPATH,'//div[@class=\"next-page\"]')\n",
    "    next_button.click()\n",
    "    time.sleep(3)"
   ]
  },
  {
   "cell_type": "code",
   "execution_count": 13,
   "id": "193e9bff",
   "metadata": {},
   "outputs": [],
   "source": [
    "person_age=[]\n",
    "start=0\n",
    "end=5\n",
    "for page in range(start,end):\n",
    "    age_tags=driver.find_elements(By.XPATH,'//div[@class=\"age\"]')\n",
    "    for i in age_tags:\n",
    "        person_age.append(i.text)\n",
    "\n",
    "    next_button=driver.find_element(By.XPATH,'//div[@class=\"next-page\"]')\n",
    "    next_button.click()\n",
    "    time.sleep(3)"
   ]
  },
  {
   "cell_type": "code",
   "execution_count": 14,
   "id": "c1be8383",
   "metadata": {},
   "outputs": [],
   "source": [
    "person_citi=[]\n",
    "start=0\n",
    "end=5\n",
    "for page in range(start,end):\n",
    "    citi_tags=driver.find_elements(By.XPATH,'//div[@class=\"countryOfCitizenship\"]')\n",
    "    for i in citi_tags:\n",
    "        person_citi.append(i.text)\n",
    "\n",
    "    next_button=driver.find_element(By.XPATH,'//div[@class=\"next-page\"]')\n",
    "    next_button.click()\n",
    "    time.sleep(3)"
   ]
  },
  {
   "cell_type": "code",
   "execution_count": 15,
   "id": "e54ac43c",
   "metadata": {},
   "outputs": [],
   "source": [
    "person_source=[]\n",
    "start=0\n",
    "end=5\n",
    "for page in range(start,end):\n",
    "    source_tags=driver.find_elements(By.XPATH,'//div[@class=\"source\"]')\n",
    "    for i in source_tags:\n",
    "        person_source.append(i.text)\n",
    "\n",
    "    next_button=driver.find_element(By.XPATH,'//div[@class=\"next-page\"]')\n",
    "    next_button.click()\n",
    "    time.sleep(3)"
   ]
  },
  {
   "cell_type": "code",
   "execution_count": 16,
   "id": "078e0032",
   "metadata": {},
   "outputs": [],
   "source": [
    "person_name=[]\n",
    "start=0\n",
    "end=5\n",
    "for page in range(start,end):\n",
    "    name_tags=driver.find_elements(By.XPATH,'//div[@class=\"personName\"]')\n",
    "    for i in name_tags:\n",
    "        person_name.append(i.text)\n",
    "\n",
    "    next_button=driver.find_element(By.XPATH,'//div[@class=\"next-page\"]')\n",
    "    next_button.click()\n",
    "    time.sleep(3)"
   ]
  },
  {
   "cell_type": "code",
   "execution_count": 17,
   "id": "11de0e4d",
   "metadata": {},
   "outputs": [
    {
     "name": "stdout",
     "output_type": "stream",
     "text": [
      "1000 1000 1000 1000 1000 1000\n"
     ]
    }
   ],
   "source": [
    "print(len(person_name),len(person_source),len(person_citi),len(person_age),len(person_worth),len(person_rank))"
   ]
  },
  {
   "cell_type": "code",
   "execution_count": 22,
   "id": "886647bf",
   "metadata": {},
   "outputs": [],
   "source": [
    "person_in=[]\n",
    "start=0\n",
    "end=5\n",
    "for page in range(start,end):\n",
    "    in_tags=driver.find_elements(By.XPATH,'//div[@class=\"category\"]')\n",
    "    for i in in_tags:\n",
    "        person_in.append(i.text)\n",
    "\n",
    "    next_button=driver.find_element(By.XPATH,'//div[@class=\"next-page\"]')\n",
    "    next_button.click()\n",
    "    time.sleep(3)"
   ]
  },
  {
   "cell_type": "code",
   "execution_count": 23,
   "id": "fb4c3b00",
   "metadata": {},
   "outputs": [
    {
     "data": {
      "text/html": [
       "<div>\n",
       "<style scoped>\n",
       "    .dataframe tbody tr th:only-of-type {\n",
       "        vertical-align: middle;\n",
       "    }\n",
       "\n",
       "    .dataframe tbody tr th {\n",
       "        vertical-align: top;\n",
       "    }\n",
       "\n",
       "    .dataframe thead th {\n",
       "        text-align: right;\n",
       "    }\n",
       "</style>\n",
       "<table border=\"1\" class=\"dataframe\">\n",
       "  <thead>\n",
       "    <tr style=\"text-align: right;\">\n",
       "      <th></th>\n",
       "      <th>Rank</th>\n",
       "      <th>Name</th>\n",
       "      <th>Worth</th>\n",
       "      <th>Age</th>\n",
       "      <th>Citizenship</th>\n",
       "      <th>Category</th>\n",
       "      <th>Source</th>\n",
       "    </tr>\n",
       "  </thead>\n",
       "  <tbody>\n",
       "    <tr>\n",
       "      <th>0</th>\n",
       "      <td>1.</td>\n",
       "      <td>Elon Musk</td>\n",
       "      <td>$3.1 B</td>\n",
       "      <td>50</td>\n",
       "      <td>United States</td>\n",
       "      <td></td>\n",
       "      <td>Tesla, SpaceX</td>\n",
       "    </tr>\n",
       "    <tr>\n",
       "      <th>1</th>\n",
       "      <td>2.</td>\n",
       "      <td>Jeff Bezos</td>\n",
       "      <td>$3.1 B</td>\n",
       "      <td>58</td>\n",
       "      <td>United States</td>\n",
       "      <td></td>\n",
       "      <td>Amazon</td>\n",
       "    </tr>\n",
       "    <tr>\n",
       "      <th>2</th>\n",
       "      <td>3.</td>\n",
       "      <td>Bernard Arnault &amp; family</td>\n",
       "      <td>$3.1 B</td>\n",
       "      <td>73</td>\n",
       "      <td>France</td>\n",
       "      <td></td>\n",
       "      <td>LVMH</td>\n",
       "    </tr>\n",
       "    <tr>\n",
       "      <th>3</th>\n",
       "      <td>4.</td>\n",
       "      <td>Bill Gates</td>\n",
       "      <td>$3.1 B</td>\n",
       "      <td>66</td>\n",
       "      <td>United States</td>\n",
       "      <td></td>\n",
       "      <td>Microsoft</td>\n",
       "    </tr>\n",
       "    <tr>\n",
       "      <th>4</th>\n",
       "      <td>5.</td>\n",
       "      <td>Warren Buffett</td>\n",
       "      <td>$3.1 B</td>\n",
       "      <td>91</td>\n",
       "      <td>United States</td>\n",
       "      <td></td>\n",
       "      <td>Berkshire Hathaway</td>\n",
       "    </tr>\n",
       "    <tr>\n",
       "      <th>...</th>\n",
       "      <td>...</td>\n",
       "      <td>...</td>\n",
       "      <td>...</td>\n",
       "      <td>...</td>\n",
       "      <td>...</td>\n",
       "      <td>...</td>\n",
       "      <td>...</td>\n",
       "    </tr>\n",
       "    <tr>\n",
       "      <th>995</th>\n",
       "      <td>984.</td>\n",
       "      <td>Harsh Mariwala</td>\n",
       "      <td>$1.5 B</td>\n",
       "      <td>70</td>\n",
       "      <td>India</td>\n",
       "      <td></td>\n",
       "      <td>consumer goods</td>\n",
       "    </tr>\n",
       "    <tr>\n",
       "      <th>996</th>\n",
       "      <td>984.</td>\n",
       "      <td>Samir Mehta</td>\n",
       "      <td>$1.5 B</td>\n",
       "      <td>58</td>\n",
       "      <td>India</td>\n",
       "      <td></td>\n",
       "      <td>pharmaceuticals, power</td>\n",
       "    </tr>\n",
       "    <tr>\n",
       "      <th>997</th>\n",
       "      <td>984.</td>\n",
       "      <td>Sudhir Mehta</td>\n",
       "      <td>$1.5 B</td>\n",
       "      <td>67</td>\n",
       "      <td>India</td>\n",
       "      <td></td>\n",
       "      <td>pharmaceuticals, power</td>\n",
       "    </tr>\n",
       "    <tr>\n",
       "      <th>998</th>\n",
       "      <td>984.</td>\n",
       "      <td>Pawan Munjal &amp; family</td>\n",
       "      <td>$1.5 B</td>\n",
       "      <td>68</td>\n",
       "      <td>India</td>\n",
       "      <td></td>\n",
       "      <td>motorcycles</td>\n",
       "    </tr>\n",
       "    <tr>\n",
       "      <th>999</th>\n",
       "      <td>984.</td>\n",
       "      <td>Nguyen Thi Phuong Thao</td>\n",
       "      <td>$1.5 B</td>\n",
       "      <td>51</td>\n",
       "      <td>Vietnam</td>\n",
       "      <td></td>\n",
       "      <td>airlines</td>\n",
       "    </tr>\n",
       "  </tbody>\n",
       "</table>\n",
       "<p>1000 rows × 7 columns</p>\n",
       "</div>"
      ],
      "text/plain": [
       "     Rank                      Name   Worth Age    Citizenship Category  \\\n",
       "0      1.                 Elon Musk  $3.1 B  50  United States            \n",
       "1      2.                Jeff Bezos  $3.1 B  58  United States            \n",
       "2      3.  Bernard Arnault & family  $3.1 B  73         France            \n",
       "3      4.                Bill Gates  $3.1 B  66  United States            \n",
       "4      5.            Warren Buffett  $3.1 B  91  United States            \n",
       "..    ...                       ...     ...  ..            ...      ...   \n",
       "995  984.            Harsh Mariwala  $1.5 B  70          India            \n",
       "996  984.               Samir Mehta  $1.5 B  58          India            \n",
       "997  984.              Sudhir Mehta  $1.5 B  67          India            \n",
       "998  984.     Pawan Munjal & family  $1.5 B  68          India            \n",
       "999  984.    Nguyen Thi Phuong Thao  $1.5 B  51        Vietnam            \n",
       "\n",
       "                     Source  \n",
       "0             Tesla, SpaceX  \n",
       "1                    Amazon  \n",
       "2                      LVMH  \n",
       "3                 Microsoft  \n",
       "4        Berkshire Hathaway  \n",
       "..                      ...  \n",
       "995          consumer goods  \n",
       "996  pharmaceuticals, power  \n",
       "997  pharmaceuticals, power  \n",
       "998             motorcycles  \n",
       "999                airlines  \n",
       "\n",
       "[1000 rows x 7 columns]"
      ]
     },
     "execution_count": 23,
     "metadata": {},
     "output_type": "execute_result"
    }
   ],
   "source": [
    "import pandas as pd\n",
    "df=pd.DataFrame({'Rank':person_rank,'Name':person_name,'Worth':person_worth,'Age':person_age,'Citizenship':person_citi, 'Category':person_in,'Source':person_source})\n",
    "df"
   ]
  },
  {
   "cell_type": "markdown",
   "id": "2273f126",
   "metadata": {},
   "source": [
    "# Question 6"
   ]
  },
  {
   "cell_type": "code",
   "execution_count": 24,
   "id": "081cb838",
   "metadata": {},
   "outputs": [
    {
     "name": "stdout",
     "output_type": "stream",
     "text": [
      "Requirement already satisfied: selenium in c:\\users\\lenovo\\anaconda3\\lib\\site-packages (4.8.0)\n",
      "Requirement already satisfied: trio-websocket~=0.9 in c:\\users\\lenovo\\anaconda3\\lib\\site-packages (from selenium) (0.9.2)\n",
      "Requirement already satisfied: urllib3[socks]~=1.26 in c:\\users\\lenovo\\anaconda3\\lib\\site-packages (from selenium) (1.26.9)\n",
      "Requirement already satisfied: certifi>=2021.10.8 in c:\\users\\lenovo\\anaconda3\\lib\\site-packages (from selenium) (2021.10.8)\n",
      "Requirement already satisfied: trio~=0.17 in c:\\users\\lenovo\\anaconda3\\lib\\site-packages (from selenium) (0.22.0)\n",
      "Requirement already satisfied: outcome in c:\\users\\lenovo\\anaconda3\\lib\\site-packages (from trio~=0.17->selenium) (1.2.0)\n",
      "Requirement already satisfied: sortedcontainers in c:\\users\\lenovo\\anaconda3\\lib\\site-packages (from trio~=0.17->selenium) (2.4.0)\n",
      "Requirement already satisfied: exceptiongroup>=1.0.0rc9 in c:\\users\\lenovo\\anaconda3\\lib\\site-packages (from trio~=0.17->selenium) (1.1.0)\n",
      "Requirement already satisfied: cffi>=1.14 in c:\\users\\lenovo\\anaconda3\\lib\\site-packages (from trio~=0.17->selenium) (1.15.0)\n",
      "Requirement already satisfied: idna in c:\\users\\lenovo\\anaconda3\\lib\\site-packages (from trio~=0.17->selenium) (3.3)\n",
      "Requirement already satisfied: attrs>=19.2.0 in c:\\users\\lenovo\\anaconda3\\lib\\site-packages (from trio~=0.17->selenium) (21.4.0)\n",
      "Requirement already satisfied: async-generator>=1.9 in c:\\users\\lenovo\\anaconda3\\lib\\site-packages (from trio~=0.17->selenium) (1.10)\n",
      "Requirement already satisfied: sniffio in c:\\users\\lenovo\\anaconda3\\lib\\site-packages (from trio~=0.17->selenium) (1.2.0)\n",
      "Requirement already satisfied: pycparser in c:\\users\\lenovo\\anaconda3\\lib\\site-packages (from cffi>=1.14->trio~=0.17->selenium) (2.21)\n",
      "Requirement already satisfied: wsproto>=0.14 in c:\\users\\lenovo\\anaconda3\\lib\\site-packages (from trio-websocket~=0.9->selenium) (1.2.0)\n",
      "Requirement already satisfied: PySocks!=1.5.7,<2.0,>=1.5.6 in c:\\users\\lenovo\\anaconda3\\lib\\site-packages (from urllib3[socks]~=1.26->selenium) (1.7.1)\n",
      "Requirement already satisfied: h11<1,>=0.9.0 in c:\\users\\lenovo\\anaconda3\\lib\\site-packages (from wsproto>=0.14->trio-websocket~=0.9->selenium) (0.14.0)\n"
     ]
    }
   ],
   "source": [
    "!pip install selenium"
   ]
  },
  {
   "cell_type": "code",
   "execution_count": 25,
   "id": "29a2e0a5",
   "metadata": {},
   "outputs": [],
   "source": [
    "import selenium\n",
    "import pandas as pd\n",
    "from selenium import webdriver\n",
    "import warnings\n",
    "warnings.filterwarnings('ignore')\n",
    "from selenium.webdriver.common.by import By\n",
    "import time"
   ]
  },
  {
   "cell_type": "code",
   "execution_count": 26,
   "id": "674adc93",
   "metadata": {},
   "outputs": [],
   "source": [
    "driver=webdriver.Chrome(r\"chromedriver.exe\")"
   ]
  },
  {
   "cell_type": "code",
   "execution_count": 27,
   "id": "7d7c3817",
   "metadata": {},
   "outputs": [],
   "source": [
    "driver.get(\"https://www.digit.in/\")"
   ]
  },
  {
   "cell_type": "code",
   "execution_count": 28,
   "id": "06a3e0f3",
   "metadata": {},
   "outputs": [],
   "source": [
    "search=driver.find_element(By.XPATH,\"/html/body/div[2]/div/ul/li[2]/a\")\n",
    "search.click()"
   ]
  },
  {
   "cell_type": "code",
   "execution_count": 29,
   "id": "918b0c16",
   "metadata": {},
   "outputs": [],
   "source": [
    "se=driver.find_element(By.XPATH,\"/html/body/div[7]/div/div[2]/div[2]/div[3]/ul/li[9]/a\")\n",
    "se.click()\n"
   ]
  },
  {
   "cell_type": "code",
   "execution_count": 30,
   "id": "6f3845b8",
   "metadata": {},
   "outputs": [],
   "source": [
    "# scraping the  title\n",
    "laptop_title=[]\n",
    "title_tags=driver.find_elements(By.XPATH,'//div[@class=\"left_side\"]')\n",
    "for i in title_tags[0:10]:\n",
    "    title=i.text\n",
    "    laptop_title.append(title)\n",
    "\n",
    "#scraping the windows\n",
    "laptop_windows=[]\n",
    "windows_tags=driver.find_elements(By.XPATH,'//div[@class=\"value\"]')\n",
    "for i in windows_tags[0:10]:\n",
    "    windows=i.text\n",
    "    laptop_windows.append(windows)\n",
    "\n",
    "#scraping the processor\n",
    "laptop_processor=[]\n",
    "processor_tags=driver.find_elements(By.XPATH,'//div[@class=\"Wrap-pop\"]')\n",
    "\n",
    "for i in processor_tags[0:10]:\n",
    "    processor=i.text\n",
    "    laptop_processor.append(processor)\n",
    "    \n",
    "# laptop species\n",
    "laptop_species=[]\n",
    "species_tags=driver.find_elements(By.XPATH,'//span[@class=\"datahreflink spec\"]')\n",
    "\n",
    "for i in species_tags[0:10]:\n",
    "    species=i.text\n",
    "    laptop_species.append(species)\n",
    "   \n",
    "\n",
    "   "
   ]
  },
  {
   "cell_type": "code",
   "execution_count": 31,
   "id": "70134e29",
   "metadata": {},
   "outputs": [
    {
     "name": "stdout",
     "output_type": "stream",
     "text": [
      "10 10 10 10\n"
     ]
    }
   ],
   "source": [
    "print(len(laptop_title),len(laptop_windows),len(laptop_processor),len(laptop_species))"
   ]
  },
  {
   "cell_type": "code",
   "execution_count": 32,
   "id": "1ead2dbc",
   "metadata": {},
   "outputs": [
    {
     "data": {
      "text/html": [
       "<div>\n",
       "<style scoped>\n",
       "    .dataframe tbody tr th:only-of-type {\n",
       "        vertical-align: middle;\n",
       "    }\n",
       "\n",
       "    .dataframe tbody tr th {\n",
       "        vertical-align: top;\n",
       "    }\n",
       "\n",
       "    .dataframe thead th {\n",
       "        text-align: right;\n",
       "    }\n",
       "</style>\n",
       "<table border=\"1\" class=\"dataframe\">\n",
       "  <thead>\n",
       "    <tr style=\"text-align: right;\">\n",
       "      <th></th>\n",
       "      <th>Title</th>\n",
       "      <th>Window</th>\n",
       "      <th>Processor</th>\n",
       "      <th>Species</th>\n",
       "    </tr>\n",
       "  </thead>\n",
       "  <tbody>\n",
       "    <tr>\n",
       "      <th>0</th>\n",
       "      <td>1.\\nMSI Titan GT77-12UHS</td>\n",
       "      <td>Windows 11 Home OS</td>\n",
       "      <td>Windows 11 Home OS</td>\n",
       "      <td>FULL SPECS</td>\n",
       "    </tr>\n",
       "    <tr>\n",
       "      <th>1</th>\n",
       "      <td>2.\\nLenovo Legion 7</td>\n",
       "      <td>17.3\" (3840 x 2160) Display</td>\n",
       "      <td>17.3\" (3840 x 2160) Display</td>\n",
       "      <td>FULL SPECS</td>\n",
       "    </tr>\n",
       "    <tr>\n",
       "      <th>2</th>\n",
       "      <td>3.\\nAlienware X17 R2</td>\n",
       "      <td>12th Gen Intel Core i9-12900HX | NA Processor</td>\n",
       "      <td>12th Gen Intel Core i9-12900HX | NA Processor</td>\n",
       "      <td>FULL SPECS</td>\n",
       "    </tr>\n",
       "    <tr>\n",
       "      <th>3</th>\n",
       "      <td>4.\\nAcer Predator Triton 500 SE PT516-52s</td>\n",
       "      <td>2 TB SSD/64 GB DDR5 Memory</td>\n",
       "      <td>2 TB SSD/64 GB DDR5 Memory</td>\n",
       "      <td>FULL SPECS</td>\n",
       "    </tr>\n",
       "    <tr>\n",
       "      <th>4</th>\n",
       "      <td>5.\\nOmen By HP (16-B1371TX)</td>\n",
       "      <td>Windows 11 Home OS</td>\n",
       "      <td>Windows 11 Home OS</td>\n",
       "      <td>FULL SPECS</td>\n",
       "    </tr>\n",
       "    <tr>\n",
       "      <th>5</th>\n",
       "      <td>6.\\nAcer Predator Helios 300 AN515-45</td>\n",
       "      <td>16\" (2560 x 1600) Display</td>\n",
       "      <td>16\" (2560 x 1600) Display</td>\n",
       "      <td>FULL SPECS</td>\n",
       "    </tr>\n",
       "    <tr>\n",
       "      <th>6</th>\n",
       "      <td>7.\\nMSI Delta 15 (A5EFK-083IN)</td>\n",
       "      <td>12th Gen Intel Core i9-12900HX | 2.3 GHz Proce...</td>\n",
       "      <td>12th Gen Intel Core i9-12900HX | 2.3 GHz Proce...</td>\n",
       "      <td>FULL SPECS</td>\n",
       "    </tr>\n",
       "    <tr>\n",
       "      <th>7</th>\n",
       "      <td>8.\\nOmen By HP (16-C0141AX)</td>\n",
       "      <td>1 TB SSD/32 GB DDR4 Memory</td>\n",
       "      <td>1 TB SSD/32 GB DDR4 Memory</td>\n",
       "      <td>FULL SPECS</td>\n",
       "    </tr>\n",
       "    <tr>\n",
       "      <th>8</th>\n",
       "      <td>9.\\nLenovo Legion 5i Pro (82RF00MGIN)</td>\n",
       "      <td>Windows 11 Home OS</td>\n",
       "      <td>Windows 11 Home OS</td>\n",
       "      <td>FULL SPECS</td>\n",
       "    </tr>\n",
       "    <tr>\n",
       "      <th>9</th>\n",
       "      <td>10.\\nAlienware M15 R5 Ryzen Edition Icc-C78000...</td>\n",
       "      <td>17.3\" (1920 x 1080) Display</td>\n",
       "      <td>17.3\" (1920 x 1080) Display</td>\n",
       "      <td>FULL SPECS</td>\n",
       "    </tr>\n",
       "  </tbody>\n",
       "</table>\n",
       "</div>"
      ],
      "text/plain": [
       "                                               Title  \\\n",
       "0                           1.\\nMSI Titan GT77-12UHS   \n",
       "1                                2.\\nLenovo Legion 7   \n",
       "2                               3.\\nAlienware X17 R2   \n",
       "3          4.\\nAcer Predator Triton 500 SE PT516-52s   \n",
       "4                        5.\\nOmen By HP (16-B1371TX)   \n",
       "5              6.\\nAcer Predator Helios 300 AN515-45   \n",
       "6                     7.\\nMSI Delta 15 (A5EFK-083IN)   \n",
       "7                        8.\\nOmen By HP (16-C0141AX)   \n",
       "8              9.\\nLenovo Legion 5i Pro (82RF00MGIN)   \n",
       "9  10.\\nAlienware M15 R5 Ryzen Edition Icc-C78000...   \n",
       "\n",
       "                                              Window  \\\n",
       "0                                 Windows 11 Home OS   \n",
       "1                        17.3\" (3840 x 2160) Display   \n",
       "2      12th Gen Intel Core i9-12900HX | NA Processor   \n",
       "3                         2 TB SSD/64 GB DDR5 Memory   \n",
       "4                                 Windows 11 Home OS   \n",
       "5                          16\" (2560 x 1600) Display   \n",
       "6  12th Gen Intel Core i9-12900HX | 2.3 GHz Proce...   \n",
       "7                         1 TB SSD/32 GB DDR4 Memory   \n",
       "8                                 Windows 11 Home OS   \n",
       "9                        17.3\" (1920 x 1080) Display   \n",
       "\n",
       "                                           Processor     Species  \n",
       "0                                 Windows 11 Home OS  FULL SPECS  \n",
       "1                        17.3\" (3840 x 2160) Display  FULL SPECS  \n",
       "2      12th Gen Intel Core i9-12900HX | NA Processor  FULL SPECS  \n",
       "3                         2 TB SSD/64 GB DDR5 Memory  FULL SPECS  \n",
       "4                                 Windows 11 Home OS  FULL SPECS  \n",
       "5                          16\" (2560 x 1600) Display  FULL SPECS  \n",
       "6  12th Gen Intel Core i9-12900HX | 2.3 GHz Proce...  FULL SPECS  \n",
       "7                         1 TB SSD/32 GB DDR4 Memory  FULL SPECS  \n",
       "8                                 Windows 11 Home OS  FULL SPECS  \n",
       "9                        17.3\" (1920 x 1080) Display  FULL SPECS  "
      ]
     },
     "execution_count": 32,
     "metadata": {},
     "output_type": "execute_result"
    }
   ],
   "source": [
    "import pandas as pd\n",
    "df=pd.DataFrame({'Title':laptop_title,'Window':laptop_windows,'Processor':laptop_processor, 'Species':laptop_species})\n",
    "df"
   ]
  },
  {
   "cell_type": "markdown",
   "id": "3e85c5b1",
   "metadata": {},
   "source": [
    "# Question 5"
   ]
  },
  {
   "cell_type": "code",
   "execution_count": 33,
   "id": "9c597703",
   "metadata": {},
   "outputs": [
    {
     "name": "stdout",
     "output_type": "stream",
     "text": [
      "Requirement already satisfied: selenium in c:\\users\\lenovo\\anaconda3\\lib\\site-packages (4.8.0)\n",
      "Requirement already satisfied: trio~=0.17 in c:\\users\\lenovo\\anaconda3\\lib\\site-packages (from selenium) (0.22.0)\n",
      "Requirement already satisfied: certifi>=2021.10.8 in c:\\users\\lenovo\\anaconda3\\lib\\site-packages (from selenium) (2021.10.8)\n",
      "Requirement already satisfied: urllib3[socks]~=1.26 in c:\\users\\lenovo\\anaconda3\\lib\\site-packages (from selenium) (1.26.9)\n",
      "Requirement already satisfied: trio-websocket~=0.9 in c:\\users\\lenovo\\anaconda3\\lib\\site-packages (from selenium) (0.9.2)\n",
      "Requirement already satisfied: cffi>=1.14 in c:\\users\\lenovo\\anaconda3\\lib\\site-packages (from trio~=0.17->selenium) (1.15.0)\n",
      "Requirement already satisfied: exceptiongroup>=1.0.0rc9 in c:\\users\\lenovo\\anaconda3\\lib\\site-packages (from trio~=0.17->selenium) (1.1.0)\n",
      "Requirement already satisfied: async-generator>=1.9 in c:\\users\\lenovo\\anaconda3\\lib\\site-packages (from trio~=0.17->selenium) (1.10)\n",
      "Requirement already satisfied: attrs>=19.2.0 in c:\\users\\lenovo\\anaconda3\\lib\\site-packages (from trio~=0.17->selenium) (21.4.0)\n",
      "Requirement already satisfied: sniffio in c:\\users\\lenovo\\anaconda3\\lib\\site-packages (from trio~=0.17->selenium) (1.2.0)\n",
      "Requirement already satisfied: outcome in c:\\users\\lenovo\\anaconda3\\lib\\site-packages (from trio~=0.17->selenium) (1.2.0)\n",
      "Requirement already satisfied: idna in c:\\users\\lenovo\\anaconda3\\lib\\site-packages (from trio~=0.17->selenium) (3.3)\n",
      "Requirement already satisfied: sortedcontainers in c:\\users\\lenovo\\anaconda3\\lib\\site-packages (from trio~=0.17->selenium) (2.4.0)\n",
      "Requirement already satisfied: pycparser in c:\\users\\lenovo\\anaconda3\\lib\\site-packages (from cffi>=1.14->trio~=0.17->selenium) (2.21)\n",
      "Requirement already satisfied: wsproto>=0.14 in c:\\users\\lenovo\\anaconda3\\lib\\site-packages (from trio-websocket~=0.9->selenium) (1.2.0)\n",
      "Requirement already satisfied: PySocks!=1.5.7,<2.0,>=1.5.6 in c:\\users\\lenovo\\anaconda3\\lib\\site-packages (from urllib3[socks]~=1.26->selenium) (1.7.1)\n",
      "Requirement already satisfied: h11<1,>=0.9.0 in c:\\users\\lenovo\\anaconda3\\lib\\site-packages (from wsproto>=0.14->trio-websocket~=0.9->selenium) (0.14.0)\n"
     ]
    }
   ],
   "source": [
    "!pip install selenium"
   ]
  },
  {
   "cell_type": "code",
   "execution_count": 34,
   "id": "719ac294",
   "metadata": {},
   "outputs": [],
   "source": [
    "import selenium\n",
    "import pandas as pd\n",
    "from selenium import webdriver\n",
    "import warnings\n",
    "warnings.filterwarnings('ignore')\n",
    "from selenium.webdriver.common.by import By\n",
    "import time\n",
    "import re"
   ]
  },
  {
   "cell_type": "code",
   "execution_count": 35,
   "id": "ffec7246",
   "metadata": {},
   "outputs": [],
   "source": [
    "driver=webdriver.Chrome(r\"chromedriver.exe\")"
   ]
  },
  {
   "cell_type": "code",
   "execution_count": 36,
   "id": "90d8181f",
   "metadata": {},
   "outputs": [],
   "source": [
    "driver.get(\"https://www.googlemaps.com/\")"
   ]
  },
  {
   "cell_type": "code",
   "execution_count": 37,
   "id": "32bef70f",
   "metadata": {},
   "outputs": [],
   "source": [
    "place=driver.find_element(By.CLASS_NAME,\"tactile-searchbox-input\")\n",
    "place.send_keys('Delhi')"
   ]
  },
  {
   "cell_type": "code",
   "execution_count": 38,
   "id": "7d3c26f4",
   "metadata": {},
   "outputs": [],
   "source": [
    "search=driver.find_element(By.CLASS_NAME,\"pzfvzf\")\n",
    "search.click()"
   ]
  },
  {
   "cell_type": "code",
   "execution_count": 39,
   "id": "481baaac",
   "metadata": {},
   "outputs": [
    {
     "name": "stdout",
     "output_type": "stream",
     "text": [
      "URL Extracted:  https://www.google.com/maps/place/Delhi/@28.6425088,77.070336,12z/data=!4m6!3m5!1s0x390cfd5b347eb62d:0x37205b715389640!8m2!3d28.7040592!4d77.1024902!16zL20vMDlmMDc\n",
      "Latitude = 28.6425088, Longitude = 77.070336\n"
     ]
    }
   ],
   "source": [
    "try:\n",
    "\n",
    "    url_string = driver.current_url\n",
    "    print(\"URL Extracted: \", url_string)\n",
    "    lat_lng = re.findall(r'@(.*)data',url_string)\n",
    "    if len(lat_lng):\n",
    "\n",
    "        lat_lng_list = lat_lng[0].split(\",\")\n",
    "        if len(lat_lng_list)>=2:\n",
    "\n",
    "            lat = lat_lng_list[0]\n",
    "            lng = lat_lng_list[1]\n",
    "\n",
    "        print(\"Latitude = {}, Longitude = {}\".format(lat, lng))\n",
    "\n",
    "except Exception as e:\n",
    "        print(\"Error: \", str(e))\n"
   ]
  },
  {
   "cell_type": "markdown",
   "id": "e1ccf8b5",
   "metadata": {},
   "source": [
    "# Question 3"
   ]
  },
  {
   "cell_type": "code",
   "execution_count": 1,
   "id": "7c71eda3",
   "metadata": {},
   "outputs": [
    {
     "name": "stdout",
     "output_type": "stream",
     "text": [
      "Requirement already satisfied: selenium in c:\\users\\lenovo\\anaconda3\\lib\\site-packages (4.8.0)\n",
      "Requirement already satisfied: trio-websocket~=0.9 in c:\\users\\lenovo\\anaconda3\\lib\\site-packages (from selenium) (0.9.2)\n",
      "Requirement already satisfied: trio~=0.17 in c:\\users\\lenovo\\anaconda3\\lib\\site-packages (from selenium) (0.22.0)\n",
      "Requirement already satisfied: urllib3[socks]~=1.26 in c:\\users\\lenovo\\anaconda3\\lib\\site-packages (from selenium) (1.26.9)\n",
      "Requirement already satisfied: certifi>=2021.10.8 in c:\\users\\lenovo\\anaconda3\\lib\\site-packages (from selenium) (2021.10.8)\n",
      "Requirement already satisfied: cffi>=1.14 in c:\\users\\lenovo\\anaconda3\\lib\\site-packages (from trio~=0.17->selenium) (1.15.0)\n",
      "Requirement already satisfied: outcome in c:\\users\\lenovo\\anaconda3\\lib\\site-packages (from trio~=0.17->selenium) (1.2.0)\n",
      "Requirement already satisfied: exceptiongroup>=1.0.0rc9 in c:\\users\\lenovo\\anaconda3\\lib\\site-packages (from trio~=0.17->selenium) (1.1.0)\n",
      "Requirement already satisfied: async-generator>=1.9 in c:\\users\\lenovo\\anaconda3\\lib\\site-packages (from trio~=0.17->selenium) (1.10)\n",
      "Requirement already satisfied: idna in c:\\users\\lenovo\\anaconda3\\lib\\site-packages (from trio~=0.17->selenium) (3.3)\n",
      "Requirement already satisfied: sniffio in c:\\users\\lenovo\\anaconda3\\lib\\site-packages (from trio~=0.17->selenium) (1.2.0)\n",
      "Requirement already satisfied: attrs>=19.2.0 in c:\\users\\lenovo\\anaconda3\\lib\\site-packages (from trio~=0.17->selenium) (21.4.0)\n",
      "Requirement already satisfied: sortedcontainers in c:\\users\\lenovo\\anaconda3\\lib\\site-packages (from trio~=0.17->selenium) (2.4.0)\n",
      "Requirement already satisfied: pycparser in c:\\users\\lenovo\\anaconda3\\lib\\site-packages (from cffi>=1.14->trio~=0.17->selenium) (2.21)\n",
      "Requirement already satisfied: wsproto>=0.14 in c:\\users\\lenovo\\anaconda3\\lib\\site-packages (from trio-websocket~=0.9->selenium) (1.2.0)\n",
      "Requirement already satisfied: PySocks!=1.5.7,<2.0,>=1.5.6 in c:\\users\\lenovo\\anaconda3\\lib\\site-packages (from urllib3[socks]~=1.26->selenium) (1.7.1)\n",
      "Requirement already satisfied: h11<1,>=0.9.0 in c:\\users\\lenovo\\anaconda3\\lib\\site-packages (from wsproto>=0.14->trio-websocket~=0.9->selenium) (0.14.0)\n"
     ]
    }
   ],
   "source": [
    "!pip install selenium"
   ]
  },
  {
   "cell_type": "code",
   "execution_count": 2,
   "id": "0dcf811a",
   "metadata": {},
   "outputs": [],
   "source": [
    "import selenium\n",
    "import pandas as pd\n",
    "from selenium import webdriver\n",
    "import warnings\n",
    "warnings.filterwarnings('ignore')\n",
    "from selenium.webdriver.common.by import By\n",
    "import time"
   ]
  },
  {
   "cell_type": "code",
   "execution_count": 3,
   "id": "11973148",
   "metadata": {},
   "outputs": [],
   "source": [
    "driver=webdriver.Chrome(r\"chromedriver.exe\")"
   ]
  },
  {
   "cell_type": "code",
   "execution_count": 4,
   "id": "0167ca0f",
   "metadata": {},
   "outputs": [],
   "source": [
    "driver.get(\"https://www.google.com/\")"
   ]
  },
  {
   "cell_type": "code",
   "execution_count": 5,
   "id": "455ab82c",
   "metadata": {},
   "outputs": [],
   "source": [
    "designation=driver.find_element(By.CLASS_NAME,\"gLFyf\")\n",
    "designation.send_keys('cakes')"
   ]
  },
  {
   "cell_type": "code",
   "execution_count": 6,
   "id": "2ea532be",
   "metadata": {},
   "outputs": [],
   "source": [
    "search=driver.find_element(By.CLASS_NAME,\"gNO89b\")\n",
    "search.click()"
   ]
  },
  {
   "cell_type": "code",
   "execution_count": 8,
   "id": "373cf71a",
   "metadata": {},
   "outputs": [],
   "source": [
    "img=driver.find_element(By.CLASS_NAME,\"O3S9Rb\")\n",
    "img.click()"
   ]
  },
  {
   "cell_type": "code",
   "execution_count": 15,
   "id": "2ecbd65e",
   "metadata": {},
   "outputs": [
    {
     "name": "stdout",
     "output_type": "stream",
     "text": [
      "downloading 0 of 10 images\n",
      "downloading 1 of 10 images\n",
      "downloading 2 of 10 images\n",
      "downloading 3 of 10 images\n",
      "downloading 4 of 10 images\n",
      "downloading 5 of 10 images\n",
      "downloading 6 of 10 images\n",
      "downloading 7 of 10 images\n",
      "downloading 8 of 10 images\n",
      "downloading 9 of 10 images\n",
      "downloading 10 of 10 images\n"
     ]
    },
    {
     "ename": "NameError",
     "evalue": "name 'BreakBy' is not defined",
     "output_type": "error",
     "traceback": [
      "\u001b[1;31m---------------------------------------------------------------------------\u001b[0m",
      "\u001b[1;31mNameError\u001b[0m                                 Traceback (most recent call last)",
      "Input \u001b[1;32mIn [15]\u001b[0m, in \u001b[0;36m<cell line: 13>\u001b[1;34m()\u001b[0m\n\u001b[0;32m     13\u001b[0m \u001b[38;5;28;01mfor\u001b[39;00m i \u001b[38;5;129;01min\u001b[39;00m \u001b[38;5;28mrange\u001b[39m(\u001b[38;5;28mlen\u001b[39m(img_urls)):\n\u001b[0;32m     14\u001b[0m     \u001b[38;5;28;01mif\u001b[39;00m i\u001b[38;5;241m>\u001b[39m\u001b[38;5;241m10\u001b[39m:\n\u001b[1;32m---> 15\u001b[0m         \u001b[43mBreakBy\u001b[49m\u001b[38;5;241m.\u001b[39mXPATH,\n\u001b[0;32m     16\u001b[0m     \u001b[38;5;28mprint\u001b[39m(\u001b[38;5;124m\"\u001b[39m\u001b[38;5;124mdownloading \u001b[39m\u001b[38;5;132;01m{0}\u001b[39;00m\u001b[38;5;124m of \u001b[39m\u001b[38;5;132;01m{1}\u001b[39;00m\u001b[38;5;124m images\u001b[39m\u001b[38;5;124m\"\u001b[39m\u001b[38;5;241m.\u001b[39mformat(i,\u001b[38;5;241m10\u001b[39m))\n\u001b[0;32m     17\u001b[0m     \u001b[38;5;28;01mimport\u001b[39;00m \u001b[38;5;21;01mrequests\u001b[39;00m\n",
      "\u001b[1;31mNameError\u001b[0m: name 'BreakBy' is not defined"
     ]
    }
   ],
   "source": [
    "for _ in range(20):\n",
    "    driver.execute_script(\"window.scrollBy(0,1000)\")\n",
    "images = driver.find_elements(By.XPATH,'//img[@class=\"rg_i Q4LuWd\"]')\n",
    "\n",
    "img_urls=[]\n",
    "img_data=[]\n",
    "for image in images:\n",
    "    source =image.get_attribute('src')\n",
    "    if source is not None:\n",
    "        if(source[0:4] == 'http'):\n",
    "            img_urls.append(source)\n",
    "            \n",
    "for i in range(len(img_urls)):\n",
    "    if i>10:\n",
    "        BreakBy.XPATH,\n",
    "    print(\"downloading {0} of {1} images\".format(i,10))\n",
    "    import requests\n",
    "    response = requests.get(img_urls[i])\n",
    "    file = open(r\"C:\\Users\\Lenovo\\Desktop\"+str(i)+\".jpg\",\"wb\")\n",
    "    file.write(response.content)"
   ]
  },
  {
   "cell_type": "markdown",
   "id": "9b12dd6d",
   "metadata": {},
   "source": [
    "# Question 8"
   ]
  },
  {
   "cell_type": "code",
   "execution_count": 16,
   "id": "05592aaf",
   "metadata": {},
   "outputs": [
    {
     "name": "stdout",
     "output_type": "stream",
     "text": [
      "Requirement already satisfied: selenium in c:\\users\\lenovo\\anaconda3\\lib\\site-packages (4.8.0)\n",
      "Requirement already satisfied: trio-websocket~=0.9 in c:\\users\\lenovo\\anaconda3\\lib\\site-packages (from selenium) (0.9.2)\n",
      "Requirement already satisfied: trio~=0.17 in c:\\users\\lenovo\\anaconda3\\lib\\site-packages (from selenium) (0.22.0)\n",
      "Requirement already satisfied: urllib3[socks]~=1.26 in c:\\users\\lenovo\\anaconda3\\lib\\site-packages (from selenium) (1.26.9)\n",
      "Requirement already satisfied: certifi>=2021.10.8 in c:\\users\\lenovo\\anaconda3\\lib\\site-packages (from selenium) (2021.10.8)\n",
      "Requirement already satisfied: sniffio in c:\\users\\lenovo\\anaconda3\\lib\\site-packages (from trio~=0.17->selenium) (1.2.0)\n",
      "Requirement already satisfied: sortedcontainers in c:\\users\\lenovo\\anaconda3\\lib\\site-packages (from trio~=0.17->selenium) (2.4.0)\n",
      "Requirement already satisfied: cffi>=1.14 in c:\\users\\lenovo\\anaconda3\\lib\\site-packages (from trio~=0.17->selenium) (1.15.0)\n",
      "Requirement already satisfied: attrs>=19.2.0 in c:\\users\\lenovo\\anaconda3\\lib\\site-packages (from trio~=0.17->selenium) (21.4.0)\n",
      "Requirement already satisfied: outcome in c:\\users\\lenovo\\anaconda3\\lib\\site-packages (from trio~=0.17->selenium) (1.2.0)\n",
      "Requirement already satisfied: exceptiongroup>=1.0.0rc9 in c:\\users\\lenovo\\anaconda3\\lib\\site-packages (from trio~=0.17->selenium) (1.1.0)\n",
      "Requirement already satisfied: async-generator>=1.9 in c:\\users\\lenovo\\anaconda3\\lib\\site-packages (from trio~=0.17->selenium) (1.10)\n",
      "Requirement already satisfied: idna in c:\\users\\lenovo\\anaconda3\\lib\\site-packages (from trio~=0.17->selenium) (3.3)\n",
      "Requirement already satisfied: pycparser in c:\\users\\lenovo\\anaconda3\\lib\\site-packages (from cffi>=1.14->trio~=0.17->selenium) (2.21)\n",
      "Requirement already satisfied: wsproto>=0.14 in c:\\users\\lenovo\\anaconda3\\lib\\site-packages (from trio-websocket~=0.9->selenium) (1.2.0)\n",
      "Requirement already satisfied: PySocks!=1.5.7,<2.0,>=1.5.6 in c:\\users\\lenovo\\anaconda3\\lib\\site-packages (from urllib3[socks]~=1.26->selenium) (1.7.1)\n",
      "Requirement already satisfied: h11<1,>=0.9.0 in c:\\users\\lenovo\\anaconda3\\lib\\site-packages (from wsproto>=0.14->trio-websocket~=0.9->selenium) (0.14.0)\n"
     ]
    }
   ],
   "source": [
    "!pip install selenium"
   ]
  },
  {
   "cell_type": "code",
   "execution_count": 17,
   "id": "7eb678ee",
   "metadata": {},
   "outputs": [],
   "source": [
    "import selenium\n",
    "import pandas as pd\n",
    "from selenium import webdriver\n",
    "import warnings\n",
    "warnings.filterwarnings('ignore')\n",
    "from selenium.webdriver.common.by import By\n",
    "import time"
   ]
  },
  {
   "cell_type": "code",
   "execution_count": 18,
   "id": "fe2f5a4a",
   "metadata": {},
   "outputs": [],
   "source": [
    "driver=webdriver.Chrome(r\"chromedriver.exe\")"
   ]
  },
  {
   "cell_type": "code",
   "execution_count": 19,
   "id": "b161fc36",
   "metadata": {},
   "outputs": [],
   "source": [
    "driver.get(\"https://www.youtube.com/\")"
   ]
  },
  {
   "cell_type": "code",
   "execution_count": 26,
   "id": "cc4d4fa3",
   "metadata": {},
   "outputs": [],
   "source": [
    "search=driver.find_element(By.XPATH,\"/html/body/ytd-app/div[1]/ytd-page-manager/ytd-browse/ytd-two-column-browse-results-renderer/div[1]/ytd-rich-grid-renderer/div[6]/ytd-rich-grid-row[17]/div/ytd-rich-item-renderer/div/ytd-rich-grid-media/div[1]/ytd-thumbnail/a/yt-image/img\")\n",
    "search.click()\n",
    "\n"
   ]
  },
  {
   "cell_type": "code",
   "execution_count": 27,
   "id": "381f581e",
   "metadata": {},
   "outputs": [],
   "source": [
    "\n",
    "for _ in range(700):\n",
    "    driver.execute_script(\"window.scrollBy(0,1000)\")\n",
    "comments = driver.find_elements(By.XPATH,' //span[@class=\" style-scope ytd-comment-renderer\"]')\n",
    "\n",
    "comments_urls=[]\n",
    "comments_data=[]\n",
    "for comments in comments:\n",
    "    source =comments.get_attribute('src')\n",
    "    if source is not None:\n",
    "        if(source[0:4] == 'http'):\n",
    "            comments_urls.append(source)\n",
    "            \n",
    "for i in range(len(comments_urls)):\n",
    "    if i>500:\n",
    "        BreakBy.XPATH,\n",
    "    print(\"downloading {0} of {1} comments\".format(i,500))\n",
    "    import requests\n",
    "    response = requests.get(img_urls[i])\n",
    "    file = open(r\"C:\\Users\\Lenovo\\Desktop\"+str(i)+\".jpg\",\"wb\")\n",
    "    file.write(response.content)"
   ]
  },
  {
   "cell_type": "code",
   "execution_count": 28,
   "id": "8e793c8e",
   "metadata": {},
   "outputs": [],
   "source": [
    "comment_name=[]\n",
    "name_tags=driver.find_elements(By.XPATH,' //span[@class=\" style-scope ytd-comment-renderer\"]')\n",
    "for i in name_tags[0:500]:\n",
    "    name=i.text\n",
    "    comment_name.append(name)\n",
    "   "
   ]
  },
  {
   "cell_type": "code",
   "execution_count": 29,
   "id": "c235a388",
   "metadata": {},
   "outputs": [],
   "source": [
    "comment_upvote=[]\n",
    "upvote_tags=driver.find_elements(By.XPATH,'//span[@class=\"style-scope ytd-comment-action-buttons-renderer\"]')\n",
    "for i in upvote_tags[0:500]:\n",
    "    upvote=i.text\n",
    "    comment_upvote.append(upvote)\n",
    "    "
   ]
  },
  {
   "cell_type": "code",
   "execution_count": 30,
   "id": "cbea3163",
   "metadata": {},
   "outputs": [],
   "source": [
    "comment_time=[]\n",
    "time_tags=driver.find_elements(By.XPATH,'//a[@class=\"yt-simple-endpoint style-scope yt-formatted-string\"]')\n",
    "for i in time_tags[0:500]:\n",
    "    time=i.text\n",
    "    comment_time.append(i.get_attribute(\"href\"))\n",
    "  "
   ]
  },
  {
   "cell_type": "code",
   "execution_count": 31,
   "id": "d05d2fba",
   "metadata": {},
   "outputs": [
    {
     "data": {
      "text/plain": [
       "500"
      ]
     },
     "execution_count": 31,
     "metadata": {},
     "output_type": "execute_result"
    }
   ],
   "source": [
    "len(comment_upvote)"
   ]
  },
  {
   "cell_type": "code",
   "execution_count": 32,
   "id": "ee7e6502",
   "metadata": {},
   "outputs": [
    {
     "data": {
      "text/plain": [
       "500"
      ]
     },
     "execution_count": 32,
     "metadata": {},
     "output_type": "execute_result"
    }
   ],
   "source": [
    "len(comment_time)"
   ]
  },
  {
   "cell_type": "code",
   "execution_count": 33,
   "id": "25ea7c60",
   "metadata": {},
   "outputs": [
    {
     "data": {
      "text/html": [
       "<div>\n",
       "<style scoped>\n",
       "    .dataframe tbody tr th:only-of-type {\n",
       "        vertical-align: middle;\n",
       "    }\n",
       "\n",
       "    .dataframe tbody tr th {\n",
       "        vertical-align: top;\n",
       "    }\n",
       "\n",
       "    .dataframe thead th {\n",
       "        text-align: right;\n",
       "    }\n",
       "</style>\n",
       "<table border=\"1\" class=\"dataframe\">\n",
       "  <thead>\n",
       "    <tr style=\"text-align: right;\">\n",
       "      <th></th>\n",
       "      <th>Comment name</th>\n",
       "      <th>Time</th>\n",
       "      <th>Upvote</th>\n",
       "    </tr>\n",
       "  </thead>\n",
       "  <tbody>\n",
       "    <tr>\n",
       "      <th>0</th>\n",
       "      <td>@user-nw3vn1jj1k</td>\n",
       "      <td>https://www.youtube.com/@AdityaMusicTamil</td>\n",
       "      <td></td>\n",
       "    </tr>\n",
       "    <tr>\n",
       "      <th>1</th>\n",
       "      <td>@jashanpreetkaurchoudhary</td>\n",
       "      <td>https://www.youtube.com/@dsgksolanki</td>\n",
       "      <td>3</td>\n",
       "    </tr>\n",
       "    <tr>\n",
       "      <th>2</th>\n",
       "      <td>@user-bu1rs7fm3n</td>\n",
       "      <td>https://www.youtube.com/@TSeriesBhaktiSagar</td>\n",
       "      <td></td>\n",
       "    </tr>\n",
       "    <tr>\n",
       "      <th>3</th>\n",
       "      <td>@umashankar1720</td>\n",
       "      <td>https://www.youtube.com/@chandabhakti9259</td>\n",
       "      <td>46</td>\n",
       "    </tr>\n",
       "    <tr>\n",
       "      <th>4</th>\n",
       "      <td>@agnurthejaswani1861</td>\n",
       "      <td>https://www.youtube.com/@SaregamaMusic</td>\n",
       "      <td></td>\n",
       "    </tr>\n",
       "    <tr>\n",
       "      <th>...</th>\n",
       "      <td>...</td>\n",
       "      <td>...</td>\n",
       "      <td>...</td>\n",
       "    </tr>\n",
       "    <tr>\n",
       "      <th>495</th>\n",
       "      <td>@ajaypatalajaypatal5419</td>\n",
       "      <td>https://www.youtube.com/watch?v=c48Uf5ybERE&amp;lc...</td>\n",
       "      <td></td>\n",
       "    </tr>\n",
       "    <tr>\n",
       "      <th>496</th>\n",
       "      <td>@user-jr2uc6vb2q</td>\n",
       "      <td>https://www.youtube.com/watch?v=c48Uf5ybERE&amp;lc...</td>\n",
       "      <td></td>\n",
       "    </tr>\n",
       "    <tr>\n",
       "      <th>497</th>\n",
       "      <td>@anilrenuse9279</td>\n",
       "      <td>https://www.youtube.com/watch?v=c48Uf5ybERE&amp;lc...</td>\n",
       "      <td></td>\n",
       "    </tr>\n",
       "    <tr>\n",
       "      <th>498</th>\n",
       "      <td>@chitranaiker923</td>\n",
       "      <td>https://www.youtube.com/watch?v=c48Uf5ybERE&amp;lc...</td>\n",
       "      <td></td>\n",
       "    </tr>\n",
       "    <tr>\n",
       "      <th>499</th>\n",
       "      <td>@user-pj3jn7dm3r</td>\n",
       "      <td>https://www.youtube.com/watch?v=c48Uf5ybERE&amp;lc...</td>\n",
       "      <td>6</td>\n",
       "    </tr>\n",
       "  </tbody>\n",
       "</table>\n",
       "<p>500 rows × 3 columns</p>\n",
       "</div>"
      ],
      "text/plain": [
       "                  Comment name  \\\n",
       "0             @user-nw3vn1jj1k   \n",
       "1    @jashanpreetkaurchoudhary   \n",
       "2             @user-bu1rs7fm3n   \n",
       "3              @umashankar1720   \n",
       "4         @agnurthejaswani1861   \n",
       "..                         ...   \n",
       "495    @ajaypatalajaypatal5419   \n",
       "496           @user-jr2uc6vb2q   \n",
       "497            @anilrenuse9279   \n",
       "498           @chitranaiker923   \n",
       "499           @user-pj3jn7dm3r   \n",
       "\n",
       "                                                  Time Upvote  \n",
       "0            https://www.youtube.com/@AdityaMusicTamil         \n",
       "1                 https://www.youtube.com/@dsgksolanki      3  \n",
       "2          https://www.youtube.com/@TSeriesBhaktiSagar         \n",
       "3            https://www.youtube.com/@chandabhakti9259     46  \n",
       "4               https://www.youtube.com/@SaregamaMusic         \n",
       "..                                                 ...    ...  \n",
       "495  https://www.youtube.com/watch?v=c48Uf5ybERE&lc...         \n",
       "496  https://www.youtube.com/watch?v=c48Uf5ybERE&lc...         \n",
       "497  https://www.youtube.com/watch?v=c48Uf5ybERE&lc...         \n",
       "498  https://www.youtube.com/watch?v=c48Uf5ybERE&lc...         \n",
       "499  https://www.youtube.com/watch?v=c48Uf5ybERE&lc...      6  \n",
       "\n",
       "[500 rows x 3 columns]"
      ]
     },
     "execution_count": 33,
     "metadata": {},
     "output_type": "execute_result"
    }
   ],
   "source": [
    "import pandas as pd\n",
    "df=pd.DataFrame({'Comment name':comment_name,'Time':comment_time,'Upvote':comment_upvote})\n",
    "df"
   ]
  },
  {
   "cell_type": "markdown",
   "id": "fab82219",
   "metadata": {},
   "source": [
    "# Question 9"
   ]
  },
  {
   "cell_type": "code",
   "execution_count": 1,
   "id": "09e3ab8f",
   "metadata": {},
   "outputs": [
    {
     "name": "stdout",
     "output_type": "stream",
     "text": [
      "Requirement already satisfied: selenium in c:\\users\\lenovo\\anaconda3\\lib\\site-packages (4.8.0)\n",
      "Requirement already satisfied: trio-websocket~=0.9 in c:\\users\\lenovo\\anaconda3\\lib\\site-packages (from selenium) (0.9.2)\n",
      "Requirement already satisfied: urllib3[socks]~=1.26 in c:\\users\\lenovo\\anaconda3\\lib\\site-packages (from selenium) (1.26.9)\n",
      "Requirement already satisfied: trio~=0.17 in c:\\users\\lenovo\\anaconda3\\lib\\site-packages (from selenium) (0.22.0)\n",
      "Requirement already satisfied: certifi>=2021.10.8 in c:\\users\\lenovo\\anaconda3\\lib\\site-packages (from selenium) (2021.10.8)\n",
      "Requirement already satisfied: sortedcontainers in c:\\users\\lenovo\\anaconda3\\lib\\site-packages (from trio~=0.17->selenium) (2.4.0)\n",
      "Requirement already satisfied: attrs>=19.2.0 in c:\\users\\lenovo\\anaconda3\\lib\\site-packages (from trio~=0.17->selenium) (21.4.0)\n",
      "Requirement already satisfied: sniffio in c:\\users\\lenovo\\anaconda3\\lib\\site-packages (from trio~=0.17->selenium) (1.2.0)\n",
      "Requirement already satisfied: cffi>=1.14 in c:\\users\\lenovo\\anaconda3\\lib\\site-packages (from trio~=0.17->selenium) (1.15.0)\n",
      "Requirement already satisfied: outcome in c:\\users\\lenovo\\anaconda3\\lib\\site-packages (from trio~=0.17->selenium) (1.2.0)\n",
      "Requirement already satisfied: exceptiongroup>=1.0.0rc9 in c:\\users\\lenovo\\anaconda3\\lib\\site-packages (from trio~=0.17->selenium) (1.1.0)\n",
      "Requirement already satisfied: idna in c:\\users\\lenovo\\anaconda3\\lib\\site-packages (from trio~=0.17->selenium) (3.3)\n",
      "Requirement already satisfied: async-generator>=1.9 in c:\\users\\lenovo\\anaconda3\\lib\\site-packages (from trio~=0.17->selenium) (1.10)\n",
      "Requirement already satisfied: pycparser in c:\\users\\lenovo\\anaconda3\\lib\\site-packages (from cffi>=1.14->trio~=0.17->selenium) (2.21)\n",
      "Requirement already satisfied: wsproto>=0.14 in c:\\users\\lenovo\\anaconda3\\lib\\site-packages (from trio-websocket~=0.9->selenium) (1.2.0)\n",
      "Requirement already satisfied: PySocks!=1.5.7,<2.0,>=1.5.6 in c:\\users\\lenovo\\anaconda3\\lib\\site-packages (from urllib3[socks]~=1.26->selenium) (1.7.1)\n",
      "Requirement already satisfied: h11<1,>=0.9.0 in c:\\users\\lenovo\\anaconda3\\lib\\site-packages (from wsproto>=0.14->trio-websocket~=0.9->selenium) (0.14.0)\n"
     ]
    }
   ],
   "source": [
    "!pip install selenium"
   ]
  },
  {
   "cell_type": "code",
   "execution_count": 2,
   "id": "e5475c96",
   "metadata": {},
   "outputs": [],
   "source": [
    "import selenium\n",
    "import pandas as pd\n",
    "from selenium import webdriver\n",
    "import warnings\n",
    "warnings.filterwarnings('ignore')\n",
    "from selenium.webdriver.common.by import By\n",
    "import time"
   ]
  },
  {
   "cell_type": "code",
   "execution_count": 3,
   "id": "d42883a8",
   "metadata": {},
   "outputs": [],
   "source": [
    "driver=webdriver.Chrome(r\"chromedriver.exe\")"
   ]
  },
  {
   "cell_type": "code",
   "execution_count": 4,
   "id": "24233737",
   "metadata": {},
   "outputs": [],
   "source": [
    "driver.get(\"https://www.hostelworld.com/\")"
   ]
  },
  {
   "cell_type": "code",
   "execution_count": 5,
   "id": "ff4df4c4",
   "metadata": {},
   "outputs": [],
   "source": [
    "place=driver.find_element(By.XPATH,\"/html/body/div[3]/div/div/div[2]/div[2]/div/div/div[4]/div/div[2]/div/div[1]/div/div/div/input\")\n",
    "place.send_keys('London')"
   ]
  },
  {
   "cell_type": "code",
   "execution_count": 6,
   "id": "147b1ac5",
   "metadata": {},
   "outputs": [],
   "source": [
    "des=driver.find_element(By.XPATH,\"/html/body/div[3]/div/div/div[2]/div[2]/div/div/div[4]/div/div[2]/div/div[1]/div/div/ul/li[2]\")\n",
    "des.click()"
   ]
  },
  {
   "cell_type": "code",
   "execution_count": 7,
   "id": "fbcb00f0",
   "metadata": {},
   "outputs": [],
   "source": [
    "se=driver.find_element(By.CLASS_NAME,\"search-button\")\n",
    "se.click()"
   ]
  },
  {
   "cell_type": "code",
   "execution_count": 10,
   "id": "de0f145d",
   "metadata": {},
   "outputs": [],
   "source": [
    "# scraping the  name\n",
    "hostel_title=[]\n",
    "title_tags=driver.find_elements(By.XPATH,'//h2[@class=\"title title-6\"]')\n",
    "for i in title_tags:\n",
    "    title=i.text\n",
    "    hostel_title.append(title)\n",
    "\n",
    "#scraping the distance\n",
    "hostel_distance=[]\n",
    "distance_tags=driver.find_elements(By.XPATH,'//span[@class=\"description\"]')\n",
    "for i in distance_tags:\n",
    "    distance=i.text\n",
    "    hostel_distance.append(distance)\n",
    "\n",
    "#scraping the review\n",
    "hostel_rating=[]\n",
    "rating_tags=driver.find_elements(By.XPATH,'//div[@class=\"keyword\"]')\n",
    "\n",
    "for i in rating_tags:\n",
    "    rating=i.text\n",
    "    hostel_rating.append(rating)\n",
    "\n",
    "#scraping the rating\n",
    "hostel_star=[]\n",
    "star_tags=driver.find_elements(By.XPATH,'//div[@class=\"score orange big\"]')\n",
    "for i in star_tags:\n",
    "    star=i.text\n",
    "    hostel_star.append(star)\n",
    "    \n",
    "#scraping thre price\n",
    "hostel_price=[]\n",
    "price_tags=driver.find_elements(By.XPATH,'//div[@class=\"prices-col\"]')\n",
    "for i in price_tags:\n",
    "    price=i.text\n",
    "    hostel_price.append(price)\n",
    "    \n",
    "    \n",
    "# scraping total reviews    \n",
    "hostel_tr=[]\n",
    "tr_tags=driver.find_elements(By.XPATH,'//div[@class=\"reviews\"]')\n",
    "for i in tr_tags:\n",
    "    tr=i.text\n",
    "    hostel_tr.append(tr)"
   ]
  },
  {
   "cell_type": "code",
   "execution_count": 12,
   "id": "7b8668c7",
   "metadata": {},
   "outputs": [
    {
     "name": "stdout",
     "output_type": "stream",
     "text": [
      "30 31 30 30 26 30\n"
     ]
    }
   ],
   "source": [
    "print(len(hostel_price),len(hostel_rating),len(hostel_distance),len(hostel_title),len(hostel_star),len(hostel_tr))"
   ]
  },
  {
   "cell_type": "code",
   "execution_count": 13,
   "id": "1c1a2c19",
   "metadata": {},
   "outputs": [
    {
     "data": {
      "text/plain": [
       "'Privates From\\nRs15016\\nNo Dorms Available\\nView'"
      ]
     },
     "execution_count": 13,
     "metadata": {},
     "output_type": "execute_result"
    }
   ],
   "source": [
    "hostel_price.pop()"
   ]
  },
  {
   "cell_type": "code",
   "execution_count": 14,
   "id": "ead95758",
   "metadata": {},
   "outputs": [
    {
     "data": {
      "text/plain": [
       "'Privates From\\nRs10838\\nNo Dorms Available\\nView'"
      ]
     },
     "execution_count": 14,
     "metadata": {},
     "output_type": "execute_result"
    }
   ],
   "source": [
    "hostel_price.pop()"
   ]
  },
  {
   "cell_type": "code",
   "execution_count": 15,
   "id": "5614b028",
   "metadata": {},
   "outputs": [
    {
     "data": {
      "text/plain": [
       "'Privates From\\nRs10039\\nNo Dorms Available\\nView'"
      ]
     },
     "execution_count": 15,
     "metadata": {},
     "output_type": "execute_result"
    }
   ],
   "source": [
    "hostel_price.pop()"
   ]
  },
  {
   "cell_type": "code",
   "execution_count": 16,
   "id": "0817589f",
   "metadata": {},
   "outputs": [
    {
     "data": {
      "text/plain": [
       "'No Privates Available\\nDorms From\\nRs4048\\nView'"
      ]
     },
     "execution_count": 16,
     "metadata": {},
     "output_type": "execute_result"
    }
   ],
   "source": [
    "hostel_price.pop()"
   ]
  },
  {
   "cell_type": "code",
   "execution_count": 17,
   "id": "5c6881ce",
   "metadata": {},
   "outputs": [
    {
     "data": {
      "text/plain": [
       "'Fabulous'"
      ]
     },
     "execution_count": 17,
     "metadata": {},
     "output_type": "execute_result"
    }
   ],
   "source": [
    "hostel_rating.pop()"
   ]
  },
  {
   "cell_type": "code",
   "execution_count": 18,
   "id": "6b82fd65",
   "metadata": {},
   "outputs": [
    {
     "data": {
      "text/plain": [
       "'Very Good'"
      ]
     },
     "execution_count": 18,
     "metadata": {},
     "output_type": "execute_result"
    }
   ],
   "source": [
    "hostel_rating.pop()"
   ]
  },
  {
   "cell_type": "code",
   "execution_count": 19,
   "id": "25bce9a6",
   "metadata": {},
   "outputs": [
    {
     "data": {
      "text/plain": [
       "'No Rating'"
      ]
     },
     "execution_count": 19,
     "metadata": {},
     "output_type": "execute_result"
    }
   ],
   "source": [
    "hostel_rating.pop()"
   ]
  },
  {
   "cell_type": "code",
   "execution_count": 20,
   "id": "ce02eb22",
   "metadata": {},
   "outputs": [
    {
     "data": {
      "text/plain": [
       "'Fabulous'"
      ]
     },
     "execution_count": 20,
     "metadata": {},
     "output_type": "execute_result"
    }
   ],
   "source": [
    "hostel_rating.pop()"
   ]
  },
  {
   "cell_type": "code",
   "execution_count": 21,
   "id": "832965d1",
   "metadata": {},
   "outputs": [
    {
     "data": {
      "text/plain": [
       "'Good'"
      ]
     },
     "execution_count": 21,
     "metadata": {},
     "output_type": "execute_result"
    }
   ],
   "source": [
    "hostel_rating.pop()"
   ]
  },
  {
   "cell_type": "code",
   "execution_count": 22,
   "id": "212375f8",
   "metadata": {},
   "outputs": [
    {
     "data": {
      "text/plain": [
       "'Hotel - 6.5km from city centre'"
      ]
     },
     "execution_count": 22,
     "metadata": {},
     "output_type": "execute_result"
    }
   ],
   "source": [
    "hostel_distance.pop()"
   ]
  },
  {
   "cell_type": "code",
   "execution_count": 23,
   "id": "31887f51",
   "metadata": {},
   "outputs": [
    {
     "data": {
      "text/plain": [
       "'Hotel - 6.8km from city centre'"
      ]
     },
     "execution_count": 23,
     "metadata": {},
     "output_type": "execute_result"
    }
   ],
   "source": [
    "hostel_distance.pop()"
   ]
  },
  {
   "cell_type": "code",
   "execution_count": 24,
   "id": "f4a8c8a3",
   "metadata": {},
   "outputs": [
    {
     "data": {
      "text/plain": [
       "'Hotel - 19.9km from city centre'"
      ]
     },
     "execution_count": 24,
     "metadata": {},
     "output_type": "execute_result"
    }
   ],
   "source": [
    "hostel_distance.pop()"
   ]
  },
  {
   "cell_type": "code",
   "execution_count": 25,
   "id": "71bfea49",
   "metadata": {},
   "outputs": [
    {
     "data": {
      "text/plain": [
       "'Hostel - 5.1km from city centre'"
      ]
     },
     "execution_count": 25,
     "metadata": {},
     "output_type": "execute_result"
    }
   ],
   "source": [
    "hostel_distance.pop()"
   ]
  },
  {
   "cell_type": "code",
   "execution_count": 26,
   "id": "ddb4579d",
   "metadata": {},
   "outputs": [
    {
     "data": {
      "text/plain": [
       "'The W14 Hotel & Bar'"
      ]
     },
     "execution_count": 26,
     "metadata": {},
     "output_type": "execute_result"
    }
   ],
   "source": [
    "hostel_title.pop()"
   ]
  },
  {
   "cell_type": "code",
   "execution_count": 27,
   "id": "6f0a0fe4",
   "metadata": {},
   "outputs": [
    {
     "data": {
      "text/plain": [
       "'Kip Hotel'"
      ]
     },
     "execution_count": 27,
     "metadata": {},
     "output_type": "execute_result"
    }
   ],
   "source": [
    "hostel_title.pop()"
   ]
  },
  {
   "cell_type": "code",
   "execution_count": 28,
   "id": "f7a58e25",
   "metadata": {},
   "outputs": [
    {
     "data": {
      "text/plain": [
       "'TLK Apartments & Hotel'"
      ]
     },
     "execution_count": 28,
     "metadata": {},
     "output_type": "execute_result"
    }
   ],
   "source": [
    "hostel_title.pop()"
   ]
  },
  {
   "cell_type": "code",
   "execution_count": 29,
   "id": "d11e9780",
   "metadata": {},
   "outputs": [
    {
     "data": {
      "text/plain": [
       "'Hostelle London'"
      ]
     },
     "execution_count": 29,
     "metadata": {},
     "output_type": "execute_result"
    }
   ],
   "source": [
    "hostel_title.pop()"
   ]
  },
  {
   "cell_type": "code",
   "execution_count": 30,
   "id": "a5b5e1f7",
   "metadata": {},
   "outputs": [
    {
     "name": "stdout",
     "output_type": "stream",
     "text": [
      "26 26 26 26 26 30\n"
     ]
    }
   ],
   "source": [
    "print(len(hostel_price),len(hostel_rating),len(hostel_distance),len(hostel_title),len(hostel_star),len(hostel_tr))"
   ]
  },
  {
   "cell_type": "code",
   "execution_count": 31,
   "id": "a02c4cba",
   "metadata": {},
   "outputs": [
    {
     "data": {
      "text/plain": [
       "'282 Total Reviews'"
      ]
     },
     "execution_count": 31,
     "metadata": {},
     "output_type": "execute_result"
    }
   ],
   "source": [
    "hostel_tr.pop()"
   ]
  },
  {
   "cell_type": "code",
   "execution_count": 32,
   "id": "b696cfba",
   "metadata": {},
   "outputs": [
    {
     "data": {
      "text/plain": [
       "'55 Total Reviews'"
      ]
     },
     "execution_count": 32,
     "metadata": {},
     "output_type": "execute_result"
    }
   ],
   "source": [
    "hostel_tr.pop()"
   ]
  },
  {
   "cell_type": "code",
   "execution_count": 33,
   "id": "4e332410",
   "metadata": {},
   "outputs": [
    {
     "data": {
      "text/plain": [
       "'0 Total Reviews'"
      ]
     },
     "execution_count": 33,
     "metadata": {},
     "output_type": "execute_result"
    }
   ],
   "source": [
    "hostel_tr.pop()"
   ]
  },
  {
   "cell_type": "code",
   "execution_count": 34,
   "id": "3c5b509f",
   "metadata": {},
   "outputs": [
    {
     "data": {
      "text/plain": [
       "'4 Total Reviews'"
      ]
     },
     "execution_count": 34,
     "metadata": {},
     "output_type": "execute_result"
    }
   ],
   "source": [
    "hostel_tr.pop()"
   ]
  },
  {
   "cell_type": "code",
   "execution_count": 36,
   "id": "2dd93c77",
   "metadata": {},
   "outputs": [
    {
     "name": "stdout",
     "output_type": "stream",
     "text": [
      "26 26 26 26 26 26\n"
     ]
    }
   ],
   "source": [
    "print(len(hostel_price),len(hostel_rating),len(hostel_distance),len(hostel_title),len(hostel_star),len(hostel_tr))"
   ]
  },
  {
   "cell_type": "code",
   "execution_count": 37,
   "id": "08f5c6cd",
   "metadata": {},
   "outputs": [
    {
     "data": {
      "text/html": [
       "<div>\n",
       "<style scoped>\n",
       "    .dataframe tbody tr th:only-of-type {\n",
       "        vertical-align: middle;\n",
       "    }\n",
       "\n",
       "    .dataframe tbody tr th {\n",
       "        vertical-align: top;\n",
       "    }\n",
       "\n",
       "    .dataframe thead th {\n",
       "        text-align: right;\n",
       "    }\n",
       "</style>\n",
       "<table border=\"1\" class=\"dataframe\">\n",
       "  <thead>\n",
       "    <tr style=\"text-align: right;\">\n",
       "      <th></th>\n",
       "      <th>Name</th>\n",
       "      <th>Ratings</th>\n",
       "      <th>Distance</th>\n",
       "      <th>Price</th>\n",
       "      <th>Stars</th>\n",
       "      <th>Total review</th>\n",
       "    </tr>\n",
       "  </thead>\n",
       "  <tbody>\n",
       "    <tr>\n",
       "      <th>0</th>\n",
       "      <td>St Christopher's Village</td>\n",
       "      <td>Very Good</td>\n",
       "      <td>Hostel - 1.8km from city centre</td>\n",
       "      <td>-10%\\nNo Privates Available\\nDorms From\\nRs325...</td>\n",
       "      <td>7.8</td>\n",
       "      <td>11982 Total Reviews</td>\n",
       "    </tr>\n",
       "    <tr>\n",
       "      <th>1</th>\n",
       "      <td>Hostel One Notting Hill</td>\n",
       "      <td>Very Good</td>\n",
       "      <td>Hostel - 5.5km from city centre</td>\n",
       "      <td>Privates From\\nRs18818\\nDorms From\\nRs6379\\nView</td>\n",
       "      <td>9.4</td>\n",
       "      <td>1817 Total Reviews</td>\n",
       "    </tr>\n",
       "    <tr>\n",
       "      <th>2</th>\n",
       "      <td>Generator London</td>\n",
       "      <td>Superb</td>\n",
       "      <td>Hostel - 3km from city centre</td>\n",
       "      <td>Privates From\\nRs12545\\nDorms From\\nRs3702\\nView</td>\n",
       "      <td>7.4</td>\n",
       "      <td>7387 Total Reviews</td>\n",
       "    </tr>\n",
       "    <tr>\n",
       "      <th>3</th>\n",
       "      <td>Safestay London Elephant &amp; Castle</td>\n",
       "      <td>Very Good</td>\n",
       "      <td>Hostel - 1.7km from city centre</td>\n",
       "      <td>No Privates Available\\nDorms From\\nRs3555\\nView</td>\n",
       "      <td>7.3</td>\n",
       "      <td>4861 Total Reviews</td>\n",
       "    </tr>\n",
       "    <tr>\n",
       "      <th>4</th>\n",
       "      <td>Smart Russell Square Hostel</td>\n",
       "      <td>Very Good</td>\n",
       "      <td>Hostel - 2.6km from city centre</td>\n",
       "      <td>No Privates Available\\nDorms From\\nRs3943\\nView</td>\n",
       "      <td>7.4</td>\n",
       "      <td>9929 Total Reviews</td>\n",
       "    </tr>\n",
       "    <tr>\n",
       "      <th>5</th>\n",
       "      <td>Urbany Hostel London</td>\n",
       "      <td>Very Good</td>\n",
       "      <td>Hostel - 5.4km from city centre</td>\n",
       "      <td>Privates From\\nRs17968\\nDorms From\\nRs5973\\nView</td>\n",
       "      <td>9.1</td>\n",
       "      <td>687 Total Reviews</td>\n",
       "    </tr>\n",
       "    <tr>\n",
       "      <th>6</th>\n",
       "      <td>Safestay London Kensington Holland Park</td>\n",
       "      <td>Superb</td>\n",
       "      <td>Hostel - 5.8km from city centre</td>\n",
       "      <td>No Privates Available\\nDorms From\\nRs3878\\nView</td>\n",
       "      <td>7.2</td>\n",
       "      <td>1452 Total Reviews</td>\n",
       "    </tr>\n",
       "    <tr>\n",
       "      <th>7</th>\n",
       "      <td>No.8 Seven Sisters</td>\n",
       "      <td>Very Good</td>\n",
       "      <td>Hostel - 9km from city centre</td>\n",
       "      <td>No Privates Available\\nDorms From\\nRs2166\\nView</td>\n",
       "      <td>7.6</td>\n",
       "      <td>3971 Total Reviews</td>\n",
       "    </tr>\n",
       "    <tr>\n",
       "      <th>8</th>\n",
       "      <td>St Christopher's Hammersmith</td>\n",
       "      <td>Rating</td>\n",
       "      <td>Hostel - 7.5km from city centre</td>\n",
       "      <td>-10%\\nNo Privates Available\\nDorms From\\nRs332...</td>\n",
       "      <td>7.4</td>\n",
       "      <td>4207 Total Reviews</td>\n",
       "    </tr>\n",
       "    <tr>\n",
       "      <th>9</th>\n",
       "      <td>St Christopher's Inn - London Bridge</td>\n",
       "      <td>Very Good</td>\n",
       "      <td>Hostel - 1.8km from city centre</td>\n",
       "      <td>-10%\\nNo Privates Available\\nDorms From\\nRs430...</td>\n",
       "      <td>7.9</td>\n",
       "      <td>3463 Total Reviews</td>\n",
       "    </tr>\n",
       "    <tr>\n",
       "      <th>10</th>\n",
       "      <td>St Christopher's Inn - Liverpool Street</td>\n",
       "      <td>Very Good</td>\n",
       "      <td>Hostel - 3.2km from city centre</td>\n",
       "      <td>-10%\\nNo Privates Available\\nDorms From\\nRs422...</td>\n",
       "      <td>8.0</td>\n",
       "      <td>482 Total Reviews</td>\n",
       "    </tr>\n",
       "    <tr>\n",
       "      <th>11</th>\n",
       "      <td>Smart Hyde Park View Hostel</td>\n",
       "      <td>Very Good</td>\n",
       "      <td>Hostel - 4.8km from city centre</td>\n",
       "      <td>Privates From\\nRs28724\\nNo Dorms Available\\nView</td>\n",
       "      <td>8.0</td>\n",
       "      <td>4678 Total Reviews</td>\n",
       "    </tr>\n",
       "    <tr>\n",
       "      <th>12</th>\n",
       "      <td>PubLove @ The Steam Engine, Waterloo</td>\n",
       "      <td>Fabulous</td>\n",
       "      <td>Hostel - 0.5km from city centre</td>\n",
       "      <td>No Privates Available\\nDorms From\\nRs4733\\nView</td>\n",
       "      <td>7.0</td>\n",
       "      <td>376 Total Reviews</td>\n",
       "    </tr>\n",
       "    <tr>\n",
       "      <th>13</th>\n",
       "      <td>St Christopher's Greenwich</td>\n",
       "      <td>Fabulous</td>\n",
       "      <td>Hostel - 7.6km from city centre</td>\n",
       "      <td>-10%\\nNo Privates Available\\nDorms From\\nRs294...</td>\n",
       "      <td>9.0</td>\n",
       "      <td>3318 Total Reviews</td>\n",
       "    </tr>\n",
       "    <tr>\n",
       "      <th>14</th>\n",
       "      <td>Park Villa</td>\n",
       "      <td>Very Good</td>\n",
       "      <td>Hostel - 6.3km from city centre</td>\n",
       "      <td>No Privates Available\\nDorms From\\nRs5063\\nView</td>\n",
       "      <td>7.6</td>\n",
       "      <td>886 Total Reviews</td>\n",
       "    </tr>\n",
       "    <tr>\n",
       "      <th>15</th>\n",
       "      <td>Kensal Green Backpackers</td>\n",
       "      <td>Superb</td>\n",
       "      <td>Hostel - 8.2km from city centre</td>\n",
       "      <td>No Privates Available\\nDorms From\\nRs2840\\nView</td>\n",
       "      <td>7.3</td>\n",
       "      <td>3702 Total Reviews</td>\n",
       "    </tr>\n",
       "    <tr>\n",
       "      <th>16</th>\n",
       "      <td>Saint James Backpackers</td>\n",
       "      <td>Rating</td>\n",
       "      <td>Hostel - 5.5km from city centre</td>\n",
       "      <td>Privates From\\nRs20603\\nDorms From\\nRs6006\\nView</td>\n",
       "      <td>7.7</td>\n",
       "      <td>1869 Total Reviews</td>\n",
       "    </tr>\n",
       "    <tr>\n",
       "      <th>17</th>\n",
       "      <td>PubLove @ The Crown, Battersea</td>\n",
       "      <td>Very Good</td>\n",
       "      <td>Hostel - 4.7km from city centre</td>\n",
       "      <td>No Privates Available\\nDorms From\\nRs4929\\nView</td>\n",
       "      <td>6.8</td>\n",
       "      <td>294 Total Reviews</td>\n",
       "    </tr>\n",
       "    <tr>\n",
       "      <th>18</th>\n",
       "      <td>PubLove @ The White Ferry, Victoria</td>\n",
       "      <td>Very Good</td>\n",
       "      <td>Hostel - 2.4km from city centre</td>\n",
       "      <td>No Privates Available\\nDorms From\\nRs6333\\nView</td>\n",
       "      <td>8.8</td>\n",
       "      <td>321 Total Reviews</td>\n",
       "    </tr>\n",
       "    <tr>\n",
       "      <th>19</th>\n",
       "      <td>Bell House Hostel</td>\n",
       "      <td>Very Good</td>\n",
       "      <td>Hostel - 4.2km from city centre</td>\n",
       "      <td>No Privates Available\\nDorms From\\nRs2938\\nView</td>\n",
       "      <td>7.7</td>\n",
       "      <td>41 Total Reviews</td>\n",
       "    </tr>\n",
       "    <tr>\n",
       "      <th>20</th>\n",
       "      <td>Selina Camden</td>\n",
       "      <td>Good</td>\n",
       "      <td>Hostel - 5.5km from city centre</td>\n",
       "      <td>Privates From\\nRs26520\\nNo Dorms Available\\nView</td>\n",
       "      <td>7.3</td>\n",
       "      <td>46 Total Reviews</td>\n",
       "    </tr>\n",
       "    <tr>\n",
       "      <th>21</th>\n",
       "      <td>Elmwood Hotel</td>\n",
       "      <td>Fabulous</td>\n",
       "      <td>Hotel - 3.2km from city centre</td>\n",
       "      <td>Privates From\\nRs16975\\nNo Dorms Available\\nView</td>\n",
       "      <td>6.8</td>\n",
       "      <td>126 Total Reviews</td>\n",
       "    </tr>\n",
       "    <tr>\n",
       "      <th>22</th>\n",
       "      <td>PubLove @ The Rose &amp; Crown</td>\n",
       "      <td>Very Good</td>\n",
       "      <td>Hostel - 1.6km from city centre</td>\n",
       "      <td>No Privates Available\\nDorms From\\nRs5713\\nView</td>\n",
       "      <td>6.3</td>\n",
       "      <td>174 Total Reviews</td>\n",
       "    </tr>\n",
       "    <tr>\n",
       "      <th>23</th>\n",
       "      <td>PubLove @ The Green Man, Paddington</td>\n",
       "      <td>Very Good</td>\n",
       "      <td>Hostel - 4.3km from city centre</td>\n",
       "      <td>Privates From\\nRs29379\\nDorms From\\nRs4799\\nView</td>\n",
       "      <td>8.9</td>\n",
       "      <td>442 Total Reviews</td>\n",
       "    </tr>\n",
       "    <tr>\n",
       "      <th>24</th>\n",
       "      <td>London Waterloo Hostel</td>\n",
       "      <td>Good</td>\n",
       "      <td>Hostel - 0.7km from city centre</td>\n",
       "      <td>No Privates Available\\nDorms From\\nRs5304\\nView</td>\n",
       "      <td>7.7</td>\n",
       "      <td>2527 Total Reviews</td>\n",
       "    </tr>\n",
       "    <tr>\n",
       "      <th>25</th>\n",
       "      <td>PubLove @ The Exmouth Arms, Euston</td>\n",
       "      <td>Rating</td>\n",
       "      <td>Hostel - 3.4km from city centre</td>\n",
       "      <td>No Privates Available\\nDorms From\\nRs6920\\nView</td>\n",
       "      <td>8.4</td>\n",
       "      <td>1071 Total Reviews</td>\n",
       "    </tr>\n",
       "  </tbody>\n",
       "</table>\n",
       "</div>"
      ],
      "text/plain": [
       "                                       Name    Ratings  \\\n",
       "0                  St Christopher's Village  Very Good   \n",
       "1                   Hostel One Notting Hill  Very Good   \n",
       "2                          Generator London     Superb   \n",
       "3         Safestay London Elephant & Castle  Very Good   \n",
       "4               Smart Russell Square Hostel  Very Good   \n",
       "5                      Urbany Hostel London  Very Good   \n",
       "6   Safestay London Kensington Holland Park     Superb   \n",
       "7                        No.8 Seven Sisters  Very Good   \n",
       "8              St Christopher's Hammersmith     Rating   \n",
       "9      St Christopher's Inn - London Bridge  Very Good   \n",
       "10  St Christopher's Inn - Liverpool Street  Very Good   \n",
       "11              Smart Hyde Park View Hostel  Very Good   \n",
       "12     PubLove @ The Steam Engine, Waterloo   Fabulous   \n",
       "13               St Christopher's Greenwich   Fabulous   \n",
       "14                               Park Villa  Very Good   \n",
       "15                 Kensal Green Backpackers     Superb   \n",
       "16                  Saint James Backpackers     Rating   \n",
       "17           PubLove @ The Crown, Battersea  Very Good   \n",
       "18      PubLove @ The White Ferry, Victoria  Very Good   \n",
       "19                        Bell House Hostel  Very Good   \n",
       "20                            Selina Camden       Good   \n",
       "21                            Elmwood Hotel   Fabulous   \n",
       "22               PubLove @ The Rose & Crown  Very Good   \n",
       "23      PubLove @ The Green Man, Paddington  Very Good   \n",
       "24                   London Waterloo Hostel       Good   \n",
       "25       PubLove @ The Exmouth Arms, Euston     Rating   \n",
       "\n",
       "                           Distance  \\\n",
       "0   Hostel - 1.8km from city centre   \n",
       "1   Hostel - 5.5km from city centre   \n",
       "2     Hostel - 3km from city centre   \n",
       "3   Hostel - 1.7km from city centre   \n",
       "4   Hostel - 2.6km from city centre   \n",
       "5   Hostel - 5.4km from city centre   \n",
       "6   Hostel - 5.8km from city centre   \n",
       "7     Hostel - 9km from city centre   \n",
       "8   Hostel - 7.5km from city centre   \n",
       "9   Hostel - 1.8km from city centre   \n",
       "10  Hostel - 3.2km from city centre   \n",
       "11  Hostel - 4.8km from city centre   \n",
       "12  Hostel - 0.5km from city centre   \n",
       "13  Hostel - 7.6km from city centre   \n",
       "14  Hostel - 6.3km from city centre   \n",
       "15  Hostel - 8.2km from city centre   \n",
       "16  Hostel - 5.5km from city centre   \n",
       "17  Hostel - 4.7km from city centre   \n",
       "18  Hostel - 2.4km from city centre   \n",
       "19  Hostel - 4.2km from city centre   \n",
       "20  Hostel - 5.5km from city centre   \n",
       "21   Hotel - 3.2km from city centre   \n",
       "22  Hostel - 1.6km from city centre   \n",
       "23  Hostel - 4.3km from city centre   \n",
       "24  Hostel - 0.7km from city centre   \n",
       "25  Hostel - 3.4km from city centre   \n",
       "\n",
       "                                                Price Stars  \\\n",
       "0   -10%\\nNo Privates Available\\nDorms From\\nRs325...   7.8   \n",
       "1    Privates From\\nRs18818\\nDorms From\\nRs6379\\nView   9.4   \n",
       "2    Privates From\\nRs12545\\nDorms From\\nRs3702\\nView   7.4   \n",
       "3     No Privates Available\\nDorms From\\nRs3555\\nView   7.3   \n",
       "4     No Privates Available\\nDorms From\\nRs3943\\nView   7.4   \n",
       "5    Privates From\\nRs17968\\nDorms From\\nRs5973\\nView   9.1   \n",
       "6     No Privates Available\\nDorms From\\nRs3878\\nView   7.2   \n",
       "7     No Privates Available\\nDorms From\\nRs2166\\nView   7.6   \n",
       "8   -10%\\nNo Privates Available\\nDorms From\\nRs332...   7.4   \n",
       "9   -10%\\nNo Privates Available\\nDorms From\\nRs430...   7.9   \n",
       "10  -10%\\nNo Privates Available\\nDorms From\\nRs422...   8.0   \n",
       "11   Privates From\\nRs28724\\nNo Dorms Available\\nView   8.0   \n",
       "12    No Privates Available\\nDorms From\\nRs4733\\nView   7.0   \n",
       "13  -10%\\nNo Privates Available\\nDorms From\\nRs294...   9.0   \n",
       "14    No Privates Available\\nDorms From\\nRs5063\\nView   7.6   \n",
       "15    No Privates Available\\nDorms From\\nRs2840\\nView   7.3   \n",
       "16   Privates From\\nRs20603\\nDorms From\\nRs6006\\nView   7.7   \n",
       "17    No Privates Available\\nDorms From\\nRs4929\\nView   6.8   \n",
       "18    No Privates Available\\nDorms From\\nRs6333\\nView   8.8   \n",
       "19    No Privates Available\\nDorms From\\nRs2938\\nView   7.7   \n",
       "20   Privates From\\nRs26520\\nNo Dorms Available\\nView   7.3   \n",
       "21   Privates From\\nRs16975\\nNo Dorms Available\\nView   6.8   \n",
       "22    No Privates Available\\nDorms From\\nRs5713\\nView   6.3   \n",
       "23   Privates From\\nRs29379\\nDorms From\\nRs4799\\nView   8.9   \n",
       "24    No Privates Available\\nDorms From\\nRs5304\\nView   7.7   \n",
       "25    No Privates Available\\nDorms From\\nRs6920\\nView   8.4   \n",
       "\n",
       "           Total review  \n",
       "0   11982 Total Reviews  \n",
       "1    1817 Total Reviews  \n",
       "2    7387 Total Reviews  \n",
       "3    4861 Total Reviews  \n",
       "4    9929 Total Reviews  \n",
       "5     687 Total Reviews  \n",
       "6    1452 Total Reviews  \n",
       "7    3971 Total Reviews  \n",
       "8    4207 Total Reviews  \n",
       "9    3463 Total Reviews  \n",
       "10    482 Total Reviews  \n",
       "11   4678 Total Reviews  \n",
       "12    376 Total Reviews  \n",
       "13   3318 Total Reviews  \n",
       "14    886 Total Reviews  \n",
       "15   3702 Total Reviews  \n",
       "16   1869 Total Reviews  \n",
       "17    294 Total Reviews  \n",
       "18    321 Total Reviews  \n",
       "19     41 Total Reviews  \n",
       "20     46 Total Reviews  \n",
       "21    126 Total Reviews  \n",
       "22    174 Total Reviews  \n",
       "23    442 Total Reviews  \n",
       "24   2527 Total Reviews  \n",
       "25   1071 Total Reviews  "
      ]
     },
     "execution_count": 37,
     "metadata": {},
     "output_type": "execute_result"
    }
   ],
   "source": [
    "import pandas as pd\n",
    "df=pd.DataFrame({'Name':hostel_title,'Ratings':hostel_rating,'Distance':hostel_distance, 'Price':hostel_price,'Stars':hostel_star,'Total review':hostel_tr})\n",
    "df"
   ]
  },
  {
   "cell_type": "markdown",
   "id": "bf86698a",
   "metadata": {},
   "source": [
    "# Question 1 and 2"
   ]
  },
  {
   "cell_type": "code",
   "execution_count": 38,
   "id": "3576ea03",
   "metadata": {},
   "outputs": [
    {
     "name": "stdout",
     "output_type": "stream",
     "text": [
      "Requirement already satisfied: selenium in c:\\users\\lenovo\\anaconda3\\lib\\site-packages (4.8.0)\n",
      "Requirement already satisfied: trio-websocket~=0.9 in c:\\users\\lenovo\\anaconda3\\lib\\site-packages (from selenium) (0.9.2)\n",
      "Requirement already satisfied: certifi>=2021.10.8 in c:\\users\\lenovo\\anaconda3\\lib\\site-packages (from selenium) (2021.10.8)\n",
      "Requirement already satisfied: urllib3[socks]~=1.26 in c:\\users\\lenovo\\anaconda3\\lib\\site-packages (from selenium) (1.26.9)\n",
      "Requirement already satisfied: trio~=0.17 in c:\\users\\lenovo\\anaconda3\\lib\\site-packages (from selenium) (0.22.0)\n",
      "Requirement already satisfied: attrs>=19.2.0 in c:\\users\\lenovo\\anaconda3\\lib\\site-packages (from trio~=0.17->selenium) (21.4.0)\n",
      "Requirement already satisfied: exceptiongroup>=1.0.0rc9 in c:\\users\\lenovo\\anaconda3\\lib\\site-packages (from trio~=0.17->selenium) (1.1.0)\n",
      "Requirement already satisfied: outcome in c:\\users\\lenovo\\anaconda3\\lib\\site-packages (from trio~=0.17->selenium) (1.2.0)\n",
      "Requirement already satisfied: async-generator>=1.9 in c:\\users\\lenovo\\anaconda3\\lib\\site-packages (from trio~=0.17->selenium) (1.10)\n",
      "Requirement already satisfied: sniffio in c:\\users\\lenovo\\anaconda3\\lib\\site-packages (from trio~=0.17->selenium) (1.2.0)\n",
      "Requirement already satisfied: sortedcontainers in c:\\users\\lenovo\\anaconda3\\lib\\site-packages (from trio~=0.17->selenium) (2.4.0)\n",
      "Requirement already satisfied: idna in c:\\users\\lenovo\\anaconda3\\lib\\site-packages (from trio~=0.17->selenium) (3.3)\n",
      "Requirement already satisfied: cffi>=1.14 in c:\\users\\lenovo\\anaconda3\\lib\\site-packages (from trio~=0.17->selenium) (1.15.0)\n",
      "Requirement already satisfied: pycparser in c:\\users\\lenovo\\anaconda3\\lib\\site-packages (from cffi>=1.14->trio~=0.17->selenium) (2.21)\n",
      "Requirement already satisfied: wsproto>=0.14 in c:\\users\\lenovo\\anaconda3\\lib\\site-packages (from trio-websocket~=0.9->selenium) (1.2.0)\n",
      "Requirement already satisfied: PySocks!=1.5.7,<2.0,>=1.5.6 in c:\\users\\lenovo\\anaconda3\\lib\\site-packages (from urllib3[socks]~=1.26->selenium) (1.7.1)\n",
      "Requirement already satisfied: h11<1,>=0.9.0 in c:\\users\\lenovo\\anaconda3\\lib\\site-packages (from wsproto>=0.14->trio-websocket~=0.9->selenium) (0.14.0)\n"
     ]
    }
   ],
   "source": [
    "!pip install selenium"
   ]
  },
  {
   "cell_type": "code",
   "execution_count": 39,
   "id": "44814fd8",
   "metadata": {},
   "outputs": [],
   "source": [
    "import selenium\n",
    "import pandas as pd\n",
    "from selenium import webdriver\n",
    "import warnings\n",
    "warnings.filterwarnings('ignore')\n",
    "from selenium.webdriver.common.by import By\n",
    "import time"
   ]
  },
  {
   "cell_type": "code",
   "execution_count": 40,
   "id": "68230983",
   "metadata": {},
   "outputs": [],
   "source": [
    "driver=webdriver.Chrome(r\"chromedriver.exe\")"
   ]
  },
  {
   "cell_type": "code",
   "execution_count": 45,
   "id": "dd0c0d22",
   "metadata": {},
   "outputs": [],
   "source": [
    "driver.get(\"https://www.amazon.in/\")"
   ]
  },
  {
   "cell_type": "code",
   "execution_count": 46,
   "id": "de6b187b",
   "metadata": {},
   "outputs": [
    {
     "name": "stdout",
     "output_type": "stream",
     "text": [
      "enter your item:jewellery\n"
     ]
    }
   ],
   "source": [
    "val=input('enter your item:')"
   ]
  },
  {
   "cell_type": "markdown",
   "id": "f45d7498",
   "metadata": {},
   "source": [
    "# Ques 2"
   ]
  },
  {
   "cell_type": "code",
   "execution_count": 47,
   "id": "a5a4234c",
   "metadata": {},
   "outputs": [],
   "source": [
    "find_tags=driver.find_element(By.XPATH,\"/html/body/div[1]/header/div/div[1]/div[2]/div/form/div[2]/div[1]/input\")\n",
    "find_tags.send_keys('jewellery')"
   ]
  },
  {
   "cell_type": "code",
   "execution_count": 48,
   "id": "8e907618",
   "metadata": {},
   "outputs": [],
   "source": [
    "search=driver.find_element(By.XPATH,\"/html/body/div[1]/header/div/div[1]/div[2]/div/form/div[3]/div/span/input\")\n",
    "search.click()"
   ]
  },
  {
   "cell_type": "code",
   "execution_count": 49,
   "id": "3dd69611",
   "metadata": {},
   "outputs": [],
   "source": [
    "brand_name=[]\n",
    "start=0\n",
    "end=3\n",
    "for page in range(start,end):\n",
    "    name_tags=driver.find_elements(By.XPATH,'//span[@class=\"a-size-base-plus a-color-base\"]')\n",
    "    for i in name_tags[0:30]:\n",
    "        brand_name.append(i.text)\n",
    "\n",
    "    next_button=driver.find_element(By.XPATH,'//a[@class=\"s-pagination-item s-pagination-next s-pagination-button s-pagination-separator\"]')\n",
    "    next_button.click()\n",
    "    time.sleep(3)\n",
    "   "
   ]
  },
  {
   "cell_type": "code",
   "execution_count": 50,
   "id": "14b78adc",
   "metadata": {},
   "outputs": [],
   "source": [
    "brand_di=[]\n",
    "start=0\n",
    "end=3\n",
    "for page in range(start,end):\n",
    "    di_tags=driver.find_elements(By.XPATH,'//h2[@class=\"a-size-mini a-spacing-none a-color-base s-line-clamp-2\"]')\n",
    "    for i in di_tags[0:30]:\n",
    "        brand_di.append(i.text)\n",
    "\n",
    "    next_button=driver.find_element(By.XPATH,'//a[@class=\"s-pagination-item s-pagination-next s-pagination-button s-pagination-separator\"]')\n",
    "    next_button.click()\n",
    "    time.sleep(3)"
   ]
  },
  {
   "cell_type": "code",
   "execution_count": 51,
   "id": "0cec92e4",
   "metadata": {},
   "outputs": [],
   "source": [
    "brand_price=[]\n",
    "start=0\n",
    "end=3\n",
    "for page in range(start,end):\n",
    "    price_tags=driver.find_elements(By.XPATH,'//span[@class=\"a-price-whole\"]')\n",
    "    for i in price_tags[0:30]:\n",
    "        brand_price.append(i.text)\n",
    "\n",
    "    next_button=driver.find_element(By.XPATH,'//a[@class=\"s-pagination-item s-pagination-next s-pagination-button s-pagination-separator\"]')\n",
    "    next_button.click()\n",
    "    time.sleep(3)"
   ]
  },
  {
   "cell_type": "code",
   "execution_count": 52,
   "id": "3e5074ac",
   "metadata": {},
   "outputs": [],
   "source": [
    "brand_dd=[]\n",
    "start=0\n",
    "end=3\n",
    "for page in range(start,end):\n",
    "    dd_tags=driver.find_elements(By.XPATH,'//span[@class=\"a-color-base a-text-bold\"]')\n",
    "    for i in dd_tags[0:30]:\n",
    "        brand_dd.append(i.text)\n",
    "\n",
    "    next_button=driver.find_element(By.XPATH,'//a[@class=\"s-pagination-item s-pagination-next s-pagination-button s-pagination-separator\"]')\n",
    "    next_button.click()\n",
    "    time.sleep(3)"
   ]
  },
  {
   "cell_type": "code",
   "execution_count": 55,
   "id": "34d90fc2",
   "metadata": {},
   "outputs": [],
   "source": [
    "brand_link=[]\n",
    "start=0\n",
    "end=3\n",
    "for page in range(start,end):\n",
    "    link_tags=driver.find_elements(By.XPATH,'//a[@class=\"a-link-normal s-underline-text s-underline-link-text s-link-style a-text-normal\"]')\n",
    "    for i in link_tags[0:30]:\n",
    "        brand_link.append(i.get_attribute('href'))\n",
    "        \n",
    "\n",
    "    next_button=driver.find_element(By.XPATH,'//a[@class=\"s-pagination-item s-pagination-next s-pagination-button s-pagination-separator\"]')\n",
    "    next_button.click()\n",
    "    time.sleep(3)"
   ]
  },
  {
   "cell_type": "code",
   "execution_count": 56,
   "id": "58ffb8dc",
   "metadata": {},
   "outputs": [
    {
     "name": "stdout",
     "output_type": "stream",
     "text": [
      "90 90 90 90 90\n"
     ]
    }
   ],
   "source": [
    "print(len(brand_name),len(brand_link),len(brand_price),len(brand_di),len(brand_dd))"
   ]
  },
  {
   "cell_type": "code",
   "execution_count": 57,
   "id": "b8931ad8",
   "metadata": {},
   "outputs": [
    {
     "data": {
      "text/html": [
       "<div>\n",
       "<style scoped>\n",
       "    .dataframe tbody tr th:only-of-type {\n",
       "        vertical-align: middle;\n",
       "    }\n",
       "\n",
       "    .dataframe tbody tr th {\n",
       "        vertical-align: top;\n",
       "    }\n",
       "\n",
       "    .dataframe thead th {\n",
       "        text-align: right;\n",
       "    }\n",
       "</style>\n",
       "<table border=\"1\" class=\"dataframe\">\n",
       "  <thead>\n",
       "    <tr style=\"text-align: right;\">\n",
       "      <th></th>\n",
       "      <th>Brand Name</th>\n",
       "      <th>Product Name</th>\n",
       "      <th>Price</th>\n",
       "      <th>Delivery Date</th>\n",
       "      <th>Product link</th>\n",
       "    </tr>\n",
       "  </thead>\n",
       "  <tbody>\n",
       "    <tr>\n",
       "      <th>0</th>\n",
       "      <td>Utkrishtha</td>\n",
       "      <td>stylish daily Pendant Necklace||Sparkling A D ...</td>\n",
       "      <td>299</td>\n",
       "      <td>Tomorrow, 9 March</td>\n",
       "      <td>https://www.amazon.in/sspa/click?ie=UTF8&amp;spc=M...</td>\n",
       "    </tr>\n",
       "    <tr>\n",
       "      <th>1</th>\n",
       "      <td>ZENEME</td>\n",
       "      <td>Jewellery Set Leaf Style AD/American Diamond R...</td>\n",
       "      <td>328</td>\n",
       "      <td>Friday, 10 March</td>\n",
       "      <td>https://www.amazon.in/sspa/click?ie=UTF8&amp;spc=M...</td>\n",
       "    </tr>\n",
       "    <tr>\n",
       "      <th>2</th>\n",
       "      <td>ZENEME</td>\n",
       "      <td>Jewellery Set Leaf Style AD/American Diamond R...</td>\n",
       "      <td>449</td>\n",
       "      <td>Friday, 10 March</td>\n",
       "      <td>https://www.amazon.in/sspa/click?ie=UTF8&amp;spc=M...</td>\n",
       "    </tr>\n",
       "    <tr>\n",
       "      <th>3</th>\n",
       "      <td>ZENEME</td>\n",
       "      <td>Jewellery Set for Women American Diamond Combo...</td>\n",
       "      <td>1,299</td>\n",
       "      <td>Tomorrow, 9 March</td>\n",
       "      <td>https://www.amazon.in/sspa/click?ie=UTF8&amp;spc=M...</td>\n",
       "    </tr>\n",
       "    <tr>\n",
       "      <th>4</th>\n",
       "      <td>Yellow Chimes</td>\n",
       "      <td>Necklace Set for Women And Girls Traditional J...</td>\n",
       "      <td>1,199</td>\n",
       "      <td>Tomorrow, 9 March</td>\n",
       "      <td>https://www.amazon.in/Yellow-Chimes-Traditiona...</td>\n",
       "    </tr>\n",
       "    <tr>\n",
       "      <th>...</th>\n",
       "      <td>...</td>\n",
       "      <td>...</td>\n",
       "      <td>...</td>\n",
       "      <td>...</td>\n",
       "      <td>...</td>\n",
       "    </tr>\n",
       "    <tr>\n",
       "      <th>85</th>\n",
       "      <td>ZENEME</td>\n",
       "      <td>Jewellery Sets for Women Gold Plated Bridal Lo...</td>\n",
       "      <td>570</td>\n",
       "      <td>Friday, 10 March</td>\n",
       "      <td>https://www.amazon.in/Jewellery-Choker-Long-Ne...</td>\n",
       "    </tr>\n",
       "    <tr>\n",
       "      <th>86</th>\n",
       "      <td>ZAVERI PEARLS</td>\n",
       "      <td>Pink &amp; Green Lotus Design Meenakari Choker Nec...</td>\n",
       "      <td>594</td>\n",
       "      <td>Tomorrow, 9 March</td>\n",
       "      <td>https://www.amazon.in/ZAVERI-PEARLS-Meenakari-...</td>\n",
       "    </tr>\n",
       "    <tr>\n",
       "      <th>87</th>\n",
       "      <td>Sukkhi</td>\n",
       "      <td>Delightful Gold Plated AD Collar Necklace Set ...</td>\n",
       "      <td>160</td>\n",
       "      <td>Tomorrow, 9 March</td>\n",
       "      <td>https://www.amazon.in/Sukkhi-Jewellery-Women-G...</td>\n",
       "    </tr>\n",
       "    <tr>\n",
       "      <th>88</th>\n",
       "      <td>ZAVERI PEARLS</td>\n",
       "      <td>Green Stones &amp; Clustered Pearls Necklace Earri...</td>\n",
       "      <td>609</td>\n",
       "      <td>Tomorrow, 9 March</td>\n",
       "      <td>https://www.amazon.in/Clustered-Necklace-Earri...</td>\n",
       "    </tr>\n",
       "    <tr>\n",
       "      <th>89</th>\n",
       "      <td>Yellow Chimes</td>\n",
       "      <td>Crystals from Swarovski Exclusive Sparkling Je...</td>\n",
       "      <td>693</td>\n",
       "      <td>Tuesday, 14 March</td>\n",
       "      <td>https://www.amazon.in/Yellow-Chimes-Sparkling-...</td>\n",
       "    </tr>\n",
       "  </tbody>\n",
       "</table>\n",
       "<p>90 rows × 5 columns</p>\n",
       "</div>"
      ],
      "text/plain": [
       "       Brand Name                                       Product Name  Price  \\\n",
       "0      Utkrishtha  stylish daily Pendant Necklace||Sparkling A D ...    299   \n",
       "1          ZENEME  Jewellery Set Leaf Style AD/American Diamond R...    328   \n",
       "2          ZENEME  Jewellery Set Leaf Style AD/American Diamond R...    449   \n",
       "3          ZENEME  Jewellery Set for Women American Diamond Combo...  1,299   \n",
       "4   Yellow Chimes  Necklace Set for Women And Girls Traditional J...  1,199   \n",
       "..            ...                                                ...    ...   \n",
       "85         ZENEME  Jewellery Sets for Women Gold Plated Bridal Lo...    570   \n",
       "86  ZAVERI PEARLS  Pink & Green Lotus Design Meenakari Choker Nec...    594   \n",
       "87         Sukkhi  Delightful Gold Plated AD Collar Necklace Set ...    160   \n",
       "88  ZAVERI PEARLS  Green Stones & Clustered Pearls Necklace Earri...    609   \n",
       "89  Yellow Chimes  Crystals from Swarovski Exclusive Sparkling Je...    693   \n",
       "\n",
       "        Delivery Date                                       Product link  \n",
       "0   Tomorrow, 9 March  https://www.amazon.in/sspa/click?ie=UTF8&spc=M...  \n",
       "1    Friday, 10 March  https://www.amazon.in/sspa/click?ie=UTF8&spc=M...  \n",
       "2    Friday, 10 March  https://www.amazon.in/sspa/click?ie=UTF8&spc=M...  \n",
       "3   Tomorrow, 9 March  https://www.amazon.in/sspa/click?ie=UTF8&spc=M...  \n",
       "4   Tomorrow, 9 March  https://www.amazon.in/Yellow-Chimes-Traditiona...  \n",
       "..                ...                                                ...  \n",
       "85   Friday, 10 March  https://www.amazon.in/Jewellery-Choker-Long-Ne...  \n",
       "86  Tomorrow, 9 March  https://www.amazon.in/ZAVERI-PEARLS-Meenakari-...  \n",
       "87  Tomorrow, 9 March  https://www.amazon.in/Sukkhi-Jewellery-Women-G...  \n",
       "88  Tomorrow, 9 March  https://www.amazon.in/Clustered-Necklace-Earri...  \n",
       "89  Tuesday, 14 March  https://www.amazon.in/Yellow-Chimes-Sparkling-...  \n",
       "\n",
       "[90 rows x 5 columns]"
      ]
     },
     "execution_count": 57,
     "metadata": {},
     "output_type": "execute_result"
    }
   ],
   "source": [
    "import pandas as pd\n",
    "df=pd.DataFrame({'Brand Name':brand_name,'Product Name':brand_di,'Price':brand_price,'Delivery Date':brand_dd,'Product link':brand_link})\n",
    "df"
   ]
  },
  {
   "cell_type": "code",
   "execution_count": null,
   "id": "fd7f89cb",
   "metadata": {},
   "outputs": [],
   "source": []
  }
 ],
 "metadata": {
  "kernelspec": {
   "display_name": "Python 3 (ipykernel)",
   "language": "python",
   "name": "python3"
  },
  "language_info": {
   "codemirror_mode": {
    "name": "ipython",
    "version": 3
   },
   "file_extension": ".py",
   "mimetype": "text/x-python",
   "name": "python",
   "nbconvert_exporter": "python",
   "pygments_lexer": "ipython3",
   "version": "3.9.12"
  }
 },
 "nbformat": 4,
 "nbformat_minor": 5
}
